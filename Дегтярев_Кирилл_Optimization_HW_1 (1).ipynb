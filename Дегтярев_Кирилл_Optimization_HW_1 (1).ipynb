{
 "cells": [
  {
   "cell_type": "markdown",
   "metadata": {},
   "source": [
    "# Домашнее задание 1\n",
    "\n",
    "Это домашнее задание по материалам первого семинаров. Дедлайн по отправке - 23:55 10 февраля. \n",
    "\n",
    "Домашнее задание выполняется в этом же Jupyter Notebook'e и присылается мне на почту: __beznosikov.an@phystech.edu__.\n",
    "\n",
    "Решение каждой задачи необходимо поместить после её условия.\n",
    "\n",
    "Файл должен называться: Фамилия_Имя_Optimization_HW_1\n",
    "\n",
    "При полном запуске Вашего решения (Kernel -> Restart & Run All) все ячейки должны выполняться без ошибок. "
   ]
  },
  {
   "cell_type": "markdown",
   "metadata": {},
   "source": [
    "## Задача 1\n",
    "\n",
    "Рассмотрим следуюущую задачу оптимизации:\n",
    "\\begin{equation}\n",
    "\\min_{x \\in \\mathbb{R}^d} \\left[f(x) := \\tfrac{1}{2} x^T A x - b^T x\\right],\n",
    "\\end{equation}\n",
    "где $A \\in \\mathbb{R}^{d \\times d}$, $b \\in \\mathbb{R}^d$.\n",
    "\n",
    "__(а)__ Является ли данная задача всегда выпуклой/сильной выпуклой? При каких условиях?"
   ]
  },
  {
   "cell_type": "markdown",
   "metadata": {},
   "source": [
    "Задача будет выпуклой, если матрица $A$ симметричная и положительна полуопределена. Если положительную полуопределенность заменить на положительную определенность, то задача будет строго выпуклой :"
   ]
  },
  {
   "cell_type": "markdown",
   "metadata": {},
   "source": [
    "$f(x_1)-f(x_0)\\geq \\left< gradf(x_0),x_1-x_0 \\right> + \\frac{\\mu}{2}||\\Delta x||^2$ - выпуклость для дифф. функций"
   ]
  },
  {
   "cell_type": "markdown",
   "metadata": {},
   "source": [
    "$grad f(x_0)=\\frac{1}{2}(A+A^T)x_0-b^T$"
   ]
  },
  {
   "cell_type": "markdown",
   "metadata": {},
   "source": [
    "$\\frac{1}{2}(x_1^TAx_1)-b^Tx_1-\\frac{1}{2}(x_0^TAx_0)+b^Tx_0 \\geq \\left< \\frac{1}{2}(A+A^T)x_0-b^T,x_1-x_0\\right> + \\frac{\\mu}{2}||\\Delta x||^2$"
   ]
  },
  {
   "cell_type": "markdown",
   "metadata": {},
   "source": [
    "$x_1^TAx_1-x_0^TAx_0-2*b^T(x_1-x_0)\\geq \\left<(A+A^T)x_0,x_1-x_0\\right> - 2\\left<b^T,x_1-x_0\\right> + \\mu||\\Delta x||^2$"
   ]
  },
  {
   "cell_type": "markdown",
   "metadata": {},
   "source": [
    "Слагаемые с b сокращаются :"
   ]
  },
  {
   "cell_type": "markdown",
   "metadata": {},
   "source": [
    "$x_1^TAx_1-x_0^TAx_0 \\geq \\left<Ax_0,x_1-x_0\\right> + \\left< A^Tx_0,x_1-x_0 \\right>  + \\mu||\\Delta x||^2$"
   ]
  },
  {
   "cell_type": "markdown",
   "metadata": {},
   "source": [
    "$x_1^TAx_1-x_0^Tax_0 \\geq (x_1-x_0)^TAx_0+(x_1-x_0)^TA^Tx_0 + \\mu||\\Delta x||^2 $"
   ]
  },
  {
   "cell_type": "markdown",
   "metadata": {},
   "source": [
    "$ x_1^TAx_1 \\geq x_1^TAx_0 + x_1^TA^Tx_0 - x_0^TA^Tx_0 + \\mu||\\Delta x||^2$"
   ]
  },
  {
   "cell_type": "markdown",
   "metadata": {},
   "source": [
    "$ x_1^TAx_1 -x_1^TAx_0 -x_1^TA^Tx_0 + x_0^TA^Tx_0 \\geq \\mu||\\Delta x||^2 $"
   ]
  },
  {
   "cell_type": "markdown",
   "metadata": {},
   "source": [
    "$ x_1^T Ax_1 -x_1^T(A+A^T)x_0 + x_0^TA^Tx_0 \\geq \\mu||\\Delta x||^2 $"
   ]
  },
  {
   "cell_type": "markdown",
   "metadata": {},
   "source": [
    "Аналогично для $A^T$ можно получить"
   ]
  },
  {
   "cell_type": "markdown",
   "metadata": {},
   "source": [
    "$x_1^TA^Tx_1-x_0^T(A+A^T)x_1+x_0^TAx_0 \\geq \\mu||\\Delta x||^2$"
   ]
  },
  {
   "cell_type": "markdown",
   "metadata": {},
   "source": [
    "Складывая их, получаем что"
   ]
  },
  {
   "cell_type": "markdown",
   "metadata": {},
   "source": [
    "$(x_1-x_0)^T(A+A^T)(x_1-x_0)=x_1^T(A+A^T)x_1+x_0^T(A+A^T)x_0-x_1^T(A+A^T)x_0-x_0^T(A+A^T)x_1 \\geq 2\\cdot\\mu_0||\\Delta x||^2$"
   ]
  },
  {
   "cell_type": "markdown",
   "metadata": {},
   "source": [
    "Значит, матрица $A+A^T$ должна быть положительно полуопределена для выпуклости и строго положительно определена для строгой выпуклости(т.к. $\\mu_0>0$ по деф). В дальнейшем для удобства будем считать матрицу $A$ симметричной положительно определенной"
   ]
  },
  {
   "cell_type": "markdown",
   "metadata": {},
   "source": [
    "__(б)__ Оцените для этой функции константу сильной выпуклости и константу Липшица градиента."
   ]
  },
  {
   "cell_type": "markdown",
   "metadata": {},
   "source": [
    "Константа сильной выпуклости :"
   ]
  },
  {
   "cell_type": "markdown",
   "metadata": {},
   "source": [
    "$2 \\cdot \\mu_0||\\Delta x||^2 \\leq (\\Delta x)^T(A+A^T)(\\Delta x)$"
   ]
  },
  {
   "cell_type": "markdown",
   "metadata": {},
   "source": [
    "$x^T\\mu_oEx\\leq x^TAx$"
   ]
  },
  {
   "cell_type": "markdown",
   "metadata": {},
   "source": [
    "$x^T (A-\\mu_0E)x\\geq 0$"
   ]
  },
  {
   "cell_type": "markdown",
   "metadata": {},
   "source": [
    "Чтобы матрица осталась положительно определенной нам необходимо потребовать, чтобы $\\mu$ не превышало наименьшего собственного значения матрицы $A$"
   ]
  },
  {
   "cell_type": "markdown",
   "metadata": {},
   "source": [
    "Константа Липшица градиента :"
   ]
  },
  {
   "cell_type": "markdown",
   "metadata": {},
   "source": [
    "$||grad f(x_1)-gradf(x_0)||\\leq L\\cdot ||x_1-x_0||$"
   ]
  },
  {
   "cell_type": "markdown",
   "metadata": {},
   "source": [
    "$||A(x_1-x_0)||\\leq ||A||\\cdot||x_1-x_0||$"
   ]
  },
  {
   "cell_type": "markdown",
   "metadata": {},
   "source": [
    "Отсюда видно, $$L\\geq ||\\lambda_{max}||$$"
   ]
  },
  {
   "cell_type": "markdown",
   "metadata": {},
   "source": [
    "## Задача 2\n",
    "\n",
    "Продолжаем работать с задачей оптимизации из предыдущей задачи.\n",
    "\n",
    "### __(а)__ Придумайте (или найдите) способ генерации матрицы $А$, так чтобы $f$ была сильно выпуклой, а также можно было задавать и менять $d, \\mu, L$."
   ]
  },
  {
   "cell_type": "markdown",
   "metadata": {},
   "source": [
    "Будем генерировать симметричные положительно определенные матрицы"
   ]
  },
  {
   "cell_type": "code",
   "execution_count": 1,
   "metadata": {},
   "outputs": [],
   "source": [
    "import numpy as np"
   ]
  },
  {
   "cell_type": "markdown",
   "metadata": {},
   "source": [
    "Сначала сделаем произвольную диагональную матрицу из положительных элементов, причем все элементы распределены между $\\mu$ и $L$"
   ]
  },
  {
   "cell_type": "markdown",
   "metadata": {},
   "source": [
    "Затем повернем ее при помощи какой-нибудь произвольной ортогональной матрицы, достав ее из, например, scipy.stats"
   ]
  },
  {
   "cell_type": "markdown",
   "metadata": {},
   "source": [
    "Итоговая матрица будет симметричной, будет хранить собственные значения исходной диагональной матрицы и будет достаточно нетривиально выглядеть"
   ]
  },
  {
   "cell_type": "code",
   "execution_count": 2,
   "metadata": {},
   "outputs": [],
   "source": [
    "from scipy.stats import ortho_group"
   ]
  },
  {
   "cell_type": "code",
   "execution_count": 3,
   "metadata": {},
   "outputs": [],
   "source": [
    "def get_matrix(d,mu,L):\n",
    "    vec=np.random.uniform(low=mu, high=L, size=d-2)\n",
    "    vec=np.append(vec,mu)\n",
    "    vec=np.append(vec,L)\n",
    "    O=ortho_group.rvs(dim=d)\n",
    "    D=np.diag(vec)\n",
    "    temp=np.matmul(np.transpose(O),D)\n",
    "    result = np.matmul(temp,O)\n",
    "    return result\n",
    "    "
   ]
  },
  {
   "cell_type": "code",
   "execution_count": 4,
   "metadata": {},
   "outputs": [],
   "source": [
    "DIMENTIONS=10\n",
    "mu=1\n",
    "L=100\n",
    "EPSILON=0.00000001"
   ]
  },
  {
   "cell_type": "code",
   "execution_count": 5,
   "metadata": {},
   "outputs": [],
   "source": [
    "A=get_matrix(DIMENTIONS,mu,L)"
   ]
  },
  {
   "cell_type": "code",
   "execution_count": 6,
   "metadata": {},
   "outputs": [
    {
     "data": {
      "text/plain": [
       "array([0.71562579, 0.18039734, 0.56762455, 0.19447853, 0.36929766,\n",
       "       0.6289084 , 0.34798496, 0.88305489, 0.02728208, 0.6256374 ])"
      ]
     },
     "execution_count": 6,
     "metadata": {},
     "output_type": "execute_result"
    }
   ],
   "source": [
    "b=np.random.rand(DIMENTIONS)\n",
    "b"
   ]
  },
  {
   "cell_type": "markdown",
   "metadata": {},
   "source": [
    "### __(б)__ Реализуйте метод градиетного спуска:\n",
    "\\begin{equation}\n",
    "x_{k+1} = x_k - \\gamma_k \\nabla f(x_k),\n",
    "\\end{equation}\n",
    "для квадратичной функции с матрицей, которую сгенерировали выше и произвольным вектором $b$ (лучше ненулевым). Желательно, уже сейчас и метод, и подсчет градиента реализовывать, как отдельные функции, при этом чтобы метод принимал саму целевую функцию (или ее градиент), как параметр. В дальнейшем будет легче менять целевую функцию в задаче минимизации и тестировать разные методы. "
   ]
  },
  {
   "cell_type": "code",
   "execution_count": 7,
   "metadata": {},
   "outputs": [],
   "source": [
    "def gradient_decline(A,b,x,gamma,epsilon):\n",
    "    arr=[]\n",
    "    answer=np.linalg.solve(A,b)\n",
    "    for i in range(10000):\n",
    "        x=gradient_decline_iteration(x,gamma,A,b)\n",
    "        arr.append(np.linalg.norm(x-answer))\n",
    "        if(np.linalg.norm(x-answer) <epsilon):\n",
    "            break\n",
    "    return x,arr"
   ]
  },
  {
   "cell_type": "code",
   "execution_count": 8,
   "metadata": {},
   "outputs": [],
   "source": [
    "def gradient_decline_iteration(x_k,gamma_k,A,b):\n",
    "    x_new=x_k-gamma_k*gradient(A,b,x_k);\n",
    "    return x_new;"
   ]
  },
  {
   "cell_type": "code",
   "execution_count": 9,
   "metadata": {},
   "outputs": [],
   "source": [
    "def gradient(A,b,x):\n",
    "    return np.matmul(A,x)-np.transpose(b);"
   ]
  },
  {
   "cell_type": "code",
   "execution_count": 10,
   "metadata": {},
   "outputs": [],
   "source": [
    "zero=np.zeros(DIMENTIONS)"
   ]
  },
  {
   "cell_type": "markdown",
   "metadata": {},
   "source": [
    "### __(в)__ Для задачи с $d = 10$, $\\mu = 1$ и $L = 100$ найдите точное решение $x^*$, например, с помощью пакетов линейной алгебры (есть встроенный в numpy). Запустите градиентный спуск на $10^4$ итераций с шагом $\\gamma_k = \\tfrac{1}{L}$ и произвольной начальной точкой $x_0$ (если $b$ ненулевой, то можно взять нулевой $x_0$). Проверьте сходится ли он. В качестве критериев сходимости используйте $\\| x_k - x^*\\|^2$."
   ]
  },
  {
   "cell_type": "code",
   "execution_count": 11,
   "metadata": {},
   "outputs": [],
   "source": [
    "x,arr=gradient_decline(A,b,zero,1/np.linalg.norm(A),EPSILON)"
   ]
  },
  {
   "cell_type": "code",
   "execution_count": 12,
   "metadata": {
    "scrolled": true
   },
   "outputs": [
    {
     "data": {
      "text/plain": [
       "array([-0.32458015,  0.08967692,  0.13421762,  0.08062444,  0.18610125,\n",
       "        0.32117885,  0.2082213 ,  0.21255424, -0.22319136,  0.10129457])"
      ]
     },
     "execution_count": 12,
     "metadata": {},
     "output_type": "execute_result"
    }
   ],
   "source": [
    "x"
   ]
  },
  {
   "cell_type": "code",
   "execution_count": 13,
   "metadata": {},
   "outputs": [
    {
     "data": {
      "text/plain": [
       "array([-0.32458015,  0.08967692,  0.13421762,  0.08062444,  0.18610125,\n",
       "        0.32117886,  0.2082213 ,  0.21255425, -0.22319137,  0.10129457])"
      ]
     },
     "execution_count": 13,
     "metadata": {},
     "output_type": "execute_result"
    }
   ],
   "source": [
    "x_exact=np.linalg.solve(A,b)\n",
    "x_exact"
   ]
  },
  {
   "cell_type": "markdown",
   "metadata": {},
   "source": [
    "### __(г)__ Постройте график сходимости: по оси $x$ отложите номер итерации, по $y$ значения критерия на этой итерации. Поиграйтесь с осями, например, поставьте по $y$ логарифмический масштаб. Не забудьте подписать оси. Сделайте вывод о характере сходимости."
   ]
  },
  {
   "cell_type": "code",
   "execution_count": 14,
   "metadata": {},
   "outputs": [
    {
     "data": {
      "text/plain": [
       "<matplotlib.figure.Figure at 0x7ff8b85f7438>"
      ]
     },
     "metadata": {},
     "output_type": "display_data"
    }
   ],
   "source": [
    "import matplotlib.pyplot as plt\n",
    "\n",
    "#arr = [1, 2, 3, 4, 5]\n",
    "#почему-то чтобы график прогрузился нужно запустить ячейку еще раз\n",
    "plt.plot(range(len(arr)), arr)\n",
    "plt.xlabel(\"Element number\")\n",
    "plt.ylabel(\"Element value\")\n",
    "plt.show()"
   ]
  },
  {
   "cell_type": "code",
   "execution_count": 15,
   "metadata": {},
   "outputs": [
    {
     "data": {
      "image/png": "[encoded data removed]",
      "text/plain": [
       "<matplotlib.figure.Figure at 0x7ff8b574b438>"
      ]
     },
     "metadata": {
      "needs_background": "light"
     },
     "output_type": "display_data"
    }
   ],
   "source": [
    "import matplotlib.pyplot as plt\n",
    "\n",
    "#arr = [1, 2, 3, 4, 5]\n",
    "\n",
    "fig, ax = plt.subplots()\n",
    "ax.plot(range(len(arr)), arr)\n",
    "ax.set_xlabel(\"Element number\")\n",
    "ax.set_ylabel(\"Element value\")\n",
    "ax.set_yscale('log')\n",
    "plt.show()\n"
   ]
  },
  {
   "cell_type": "markdown",
   "metadata": {},
   "source": [
    "### __(д)__ Добавьте на график теоретическую сходимость, полученную на семинаре. Добавьте легенду, чтобы можно было отличить, какой график за что отвечает. Сделайте вывод."
   ]
  },
  {
   "cell_type": "markdown",
   "metadata": {},
   "source": [
    "$||x^{k+1}-x^*||^2\\leq(1-\\mu/L)||x^k-x^*||^2\\leq(1-\\mu/L)^2 ||x^{k-1}-x^*||^2 \\leq...\\leq (1-\\mu/L)^{k+1}||x_0-x^*||^2$"
   ]
  },
  {
   "cell_type": "code",
   "execution_count": 16,
   "metadata": {},
   "outputs": [],
   "source": [
    "mult=1-mu/L\n",
    "theor_arr=[]\n",
    "theor_arr.append(np.linalg.norm(zero-x_exact))\n",
    "\n",
    "for i in range(len(arr)):\n",
    "    theor_arr.append(theor_arr[i]*mult)\n"
   ]
  },
  {
   "cell_type": "code",
   "execution_count": 17,
   "metadata": {},
   "outputs": [
    {
     "data": {
      "image/png": "[encoded data removed]",
      "text/plain": [
       "<matplotlib.figure.Figure at 0x7ff8b574b048>"
      ]
     },
     "metadata": {
      "needs_background": "light"
     },
     "output_type": "display_data"
    }
   ],
   "source": [
    "import matplotlib.pyplot as plt\n",
    " \n",
    "#arr = [1, 2, 3, 4, 5]\n",
    "#theor_arr = [2, 4, 6, 8, 10]\n",
    " \n",
    "plt.plot(range(len(arr)), arr, color='red', label='practical')\n",
    "plt.plot(range(len(theor_arr)), theor_arr, color='blue', label='theoretical')\n",
    " \n",
    "plt.xlabel('Index')\n",
    "plt.ylabel('Value')\n",
    "plt.title('Arrays Plot')\n",
    "plt.legend()\n",
    "plt.show()\n"
   ]
  },
  {
   "cell_type": "code",
   "execution_count": 18,
   "metadata": {
    "scrolled": true
   },
   "outputs": [
    {
     "data": {
      "image/png": "[encoded data removed]",
      "text/plain": [
       "<matplotlib.figure.Figure at 0x7ff8b5562390>"
      ]
     },
     "metadata": {
      "needs_background": "light"
     },
     "output_type": "display_data"
    }
   ],
   "source": [
    "import matplotlib.pyplot as plt\n",
    " \n",
    "#arr = [1, 2, 3, 4, 5]\n",
    "#theor_arr = [2, 4, 6, 8, 10]\n",
    " \n",
    "plt.plot(range(len(arr)), arr, color='red', label='practical')\n",
    "plt.plot(range(len(theor_arr)), theor_arr, color='blue', label='theoretical')\n",
    " \n",
    "plt.xlabel('Index')\n",
    "plt.ylabel('Value')\n",
    "plt.title('Arrays Plot')\n",
    "plt.yscale('log')\n",
    "plt.legend()\n",
    "plt.show()\n"
   ]
  },
  {
   "cell_type": "markdown",
   "metadata": {},
   "source": [
    "__Видимо наша оценка на отдельных функциях является грубой__"
   ]
  },
  {
   "cell_type": "markdown",
   "metadata": {},
   "source": [
    "### __(e)__ Попробуйте метод с разными шагами (но постоянными в одном запуске) $\\gamma_k = \\gamma$. Уменьшайте и увеличивайте шаг. Нанесите все новые запуски на график (теоретическую сходимость можно убрать). "
   ]
  },
  {
   "cell_type": "code",
   "execution_count": 19,
   "metadata": {
    "scrolled": true
   },
   "outputs": [],
   "source": [
    "arrays=[]\n",
    "for i in range(6):\n",
    "    x,arr=gradient_decline(A,b,zero,1/(pow(2,i)*np.linalg.norm(A)),EPSILON)\n",
    "    arrays.append(arr)"
   ]
  },
  {
   "cell_type": "code",
   "execution_count": 20,
   "metadata": {
    "scrolled": true
   },
   "outputs": [
    {
     "data": {
      "image/png": "[encoded data removed]",
      "text/plain": [
       "<matplotlib.figure.Figure at 0x7ff8b5408cc0>"
      ]
     },
     "metadata": {
      "needs_background": "light"
     },
     "output_type": "display_data"
    }
   ],
   "source": [
    "import matplotlib.pyplot as plt\n",
    "\n",
    "#data = [[1, 2, 3, 4, 5], [2, 3, 4, 5, 6], [3, 4, 5, 6, 7]]\n",
    "data=arrays\n",
    "fig, ax = plt.subplots()\n",
    "\n",
    "colors = ['b', 'g', 'r', 'c', 'y', 'm']\n",
    "linestyles = ['-', '--', '-.','-', '--', '-.']\n",
    "\n",
    "for i, arr in enumerate(data):\n",
    "    ax.plot(range(len(arr)), arr, color=colors[i % len(colors)], linestyle=linestyles[i % len(linestyles)], label=f\"Array {i + 1}\")\n",
    "\n",
    "ax.set_xlabel(\"Element number\")\n",
    "ax.set_ylabel(\"Element value\")\n",
    "ax.legend()\n",
    "ax.set_yscale('log')\n",
    "plt.show()"
   ]
  },
  {
   "cell_type": "markdown",
   "metadata": {},
   "source": [
    "### __(ж)__ Для задачи с $\\mu = 0$ и $L = 1000$, проделайте те же действия, что и в пунктах (в), (г) с числом итераций равным $10^5$. Сделайте вывод."
   ]
  },
  {
   "cell_type": "code",
   "execution_count": 21,
   "metadata": {},
   "outputs": [],
   "source": [
    "A=get_matrix(10,0.000000001,1000)"
   ]
  },
  {
   "cell_type": "code",
   "execution_count": 22,
   "metadata": {},
   "outputs": [],
   "source": [
    "x,arr=gradient_decline(A,b,zero,1/np.linalg.norm(A),EPSILON)"
   ]
  },
  {
   "cell_type": "code",
   "execution_count": 23,
   "metadata": {
    "scrolled": false
   },
   "outputs": [
    {
     "data": {
      "text/plain": [
       "array([-0.14295182, -0.25777803,  0.00817945, -0.01719141, -0.06420763,\n",
       "       -0.13549955,  0.05499882,  0.29729622, -0.27915312,  0.06623266])"
      ]
     },
     "execution_count": 23,
     "metadata": {},
     "output_type": "execute_result"
    }
   ],
   "source": [
    "x"
   ]
  },
  {
   "cell_type": "code",
   "execution_count": 24,
   "metadata": {
    "scrolled": true
   },
   "outputs": [
    {
     "data": {
      "text/plain": [
       "array([-26418135.02084672, -46904979.65105049,   1001565.86125792,\n",
       "        -3367849.8631389 , -11708236.28840854, -25083223.32606235,\n",
       "         9445737.84829143,  54295275.17529114, -51080323.40960304,\n",
       "        11456894.08416346])"
      ]
     },
     "execution_count": 24,
     "metadata": {},
     "output_type": "execute_result"
    }
   ],
   "source": [
    "np.linalg.solve(A,b)"
   ]
  },
  {
   "cell_type": "code",
   "execution_count": 25,
   "metadata": {
    "scrolled": true
   },
   "outputs": [
    {
     "data": {
      "image/png": "[encoded data removed]",
      "text/plain": [
       "<matplotlib.figure.Figure at 0x7ff8b53ed5c0>"
      ]
     },
     "metadata": {
      "needs_background": "light"
     },
     "output_type": "display_data"
    }
   ],
   "source": [
    "import matplotlib.pyplot as plt\n",
    "\n",
    "\n",
    "plt.plot(range(len(arr)), arr)\n",
    "plt.xlabel(\"Element number\")\n",
    "plt.ylabel(\"Element value\")\n",
    "plt.show()\n"
   ]
  },
  {
   "cell_type": "markdown",
   "metadata": {},
   "source": [
    "Не получилось потому что при малых собственных числах скорость сходимости $rate(\\alpha)=\\max_i|a-\\alpha \\lambda_i|$ приближается к единице(еще это можно показать через число обусловленности матрицы)"
   ]
  },
  {
   "cell_type": "markdown",
   "metadata": {},
   "source": [
    "### __(з)__ Все ли получилось в предыдущем пункте? Если нет, то поясните почему (если это еще не сделано в выводах прошлого пункта). Проделайте пункты (в)-(e), но с критерием сходимости $f(x_k) - f(x^*)$ и/или $f(\\bar x_k) - f(x^*)$ (здесь $\\bar x_k$ - средняя точка на текущей и предыдущих итерациях). Сделайте вывод."
   ]
  },
  {
   "cell_type": "code",
   "execution_count": 26,
   "metadata": {},
   "outputs": [],
   "source": [
    "def func(x):\n",
    "    return 0.5*np.matmul(np.matmul(x.transpose(),A),x)-np.matmul(b.transpose(),x)"
   ]
  },
  {
   "cell_type": "code",
   "execution_count": 27,
   "metadata": {},
   "outputs": [],
   "source": [
    "def new_gradient_decline(A,b,x,gamma,epsilon):\n",
    "    arr=[]\n",
    "    answer=np.linalg.solve(A,b)\n",
    "    for i in range(10000):\n",
    "        x=gradient_decline_iteration(x,gamma,A,b)\n",
    "        arr.append(np.linalg.norm(func(x)-func(answer)))\n",
    "        if(arr[-1] < epsilon):\n",
    "            break\n",
    "    return x,arr"
   ]
  },
  {
   "cell_type": "code",
   "execution_count": 28,
   "metadata": {},
   "outputs": [],
   "source": [
    "A=get_matrix(DIMENTIONS,mu,L)"
   ]
  },
  {
   "cell_type": "code",
   "execution_count": 29,
   "metadata": {
    "scrolled": true
   },
   "outputs": [
    {
     "data": {
      "text/plain": [
       "array([ 0.24116221, -0.05838751,  0.4217955 ,  0.17570917,  0.27983548,\n",
       "       -0.14627318,  0.08101792,  0.38135335,  0.35697835, -0.06963275])"
      ]
     },
     "execution_count": 29,
     "metadata": {},
     "output_type": "execute_result"
    }
   ],
   "source": [
    "x_exact=np.linalg.solve(A,b)\n",
    "x_exact"
   ]
  },
  {
   "cell_type": "code",
   "execution_count": 30,
   "metadata": {},
   "outputs": [],
   "source": [
    "x,arr=new_gradient_decline(A,b,zero,1/np.linalg.norm(A),EPSILON)"
   ]
  },
  {
   "cell_type": "code",
   "execution_count": 31,
   "metadata": {},
   "outputs": [
    {
     "data": {
      "text/plain": [
       "array([ 0.2411379 , -0.05835493,  0.42169544,  0.17568173,  0.27978159,\n",
       "       -0.14624492,  0.08102174,  0.38131669,  0.35692855, -0.06962884])"
      ]
     },
     "execution_count": 31,
     "metadata": {},
     "output_type": "execute_result"
    }
   ],
   "source": [
    "x"
   ]
  },
  {
   "cell_type": "code",
   "execution_count": 32,
   "metadata": {},
   "outputs": [
    {
     "data": {
      "image/png": "[encoded data removed]",
      "text/plain": [
       "<matplotlib.figure.Figure at 0x7ff8b53219b0>"
      ]
     },
     "metadata": {
      "needs_background": "light"
     },
     "output_type": "display_data"
    }
   ],
   "source": [
    "import matplotlib.pyplot as plt\n",
    "\n",
    "#arr = [1, 2, 3, 4, 5]\n",
    "\n",
    "plt.plot(range(len(arr)), arr)\n",
    "plt.xlabel(\"Element number\")\n",
    "plt.ylabel(\"Element value\")\n",
    "plt.show()"
   ]
  },
  {
   "cell_type": "code",
   "execution_count": 33,
   "metadata": {},
   "outputs": [
    {
     "data": {
      "image/png": "[encoded data removed]",
      "text/plain": [
       "<matplotlib.figure.Figure at 0x7ff8b5664400>"
      ]
     },
     "metadata": {
      "needs_background": "light"
     },
     "output_type": "display_data"
    }
   ],
   "source": [
    "import matplotlib.pyplot as plt\n",
    "\n",
    "#arr = [1, 2, 3, 4, 5]\n",
    "\n",
    "fig, ax = plt.subplots()\n",
    "ax.plot(range(len(arr)), arr)\n",
    "ax.set_xlabel(\"Element number\")\n",
    "ax.set_ylabel(\"Element value\")\n",
    "ax.set_yscale('log')\n",
    "plt.show()\n"
   ]
  },
  {
   "cell_type": "code",
   "execution_count": 34,
   "metadata": {},
   "outputs": [],
   "source": [
    "arrays=[]\n",
    "for i in range(6):\n",
    "    x,arr=new_gradient_decline(A,b,zero,1/(pow(2,i)*np.linalg.norm(A)),EPSILON)\n",
    "    arrays.append(arr)"
   ]
  },
  {
   "cell_type": "code",
   "execution_count": 35,
   "metadata": {
    "scrolled": true
   },
   "outputs": [
    {
     "data": {
      "image/png": "[encoded data removed]",
      "text/plain": [
       "<matplotlib.figure.Figure at 0x7ff8b520d470>"
      ]
     },
     "metadata": {
      "needs_background": "light"
     },
     "output_type": "display_data"
    }
   ],
   "source": [
    "import matplotlib.pyplot as plt\n",
    "\n",
    "#data = [[1, 2, 3, 4, 5], [2, 3, 4, 5, 6], [3, 4, 5, 6, 7]]\n",
    "data=arrays\n",
    "fig, ax = plt.subplots()\n",
    "\n",
    "colors = ['b', 'g', 'r', 'c', 'y', 'm']\n",
    "linestyles = ['-', '--', '-.','-', '--', '-.']\n",
    "\n",
    "for i, arr in enumerate(data):\n",
    "    ax.plot(range(len(arr)), arr, color=colors[i % len(colors)], linestyle=linestyles[i % len(linestyles)], label=f\"Array {i + 1}\")\n",
    "\n",
    "ax.set_xlabel(\"Element number\")\n",
    "ax.set_ylabel(\"Element value\")\n",
    "ax.legend()\n",
    "ax.set_yscale('log')\n",
    "plt.show()"
   ]
  },
  {
   "cell_type": "markdown",
   "metadata": {},
   "source": [
    "Вывод : в целом эквивалентно, мерять по разнице между иксами или по разнице между функциями"
   ]
  },
  {
   "cell_type": "markdown",
   "metadata": {},
   "source": [
    "__Бонусные пункт__\n",
    "\n",
    "Исследуйте другие техники подбора шага, озвученные на семинаре: \n",
    "\n",
    "1) Уменьшающийся с номером итерации шаг,\n",
    "\n",
    "2) Наискорейший спуск: $\\gamma_k = \\arg\\min_{\\gamma} f(x_k - \\gamma \\nabla f(x_k))$,\n",
    "\n",
    "3) Правила Армихо, Вульфа и Гольдстейна: смотри параграф 3.1 из https://www.csie.ntu.edu.tw/~r97002/temp/num_optimization.pdf,\n",
    "\n",
    "4) Шаг Поляка-Шора: $\\gamma_k = \\tfrac{f(x^k) - f(x^*)}{\\alpha \\|\\nabla f(x^k)\\|^2}$, где $\\alpha \\geq 1$.\n",
    "\n",
    "Эксперименты нужно провести, как для сильно выпуклых, так и выпуклых задач. Сравните не только число итераций, но и время работы методов. Учтите, что правила Армихо, Вульфа, Гольстейна и Поляка-Шора требуют подбора дополнительных параметров эврестически (поиграйте с этими параметрами отдельно и выберете какой подходит лучше)."
   ]
  },
  {
   "cell_type": "code",
   "execution_count": 36,
   "metadata": {},
   "outputs": [],
   "source": [
    "#ответ"
   ]
  }
 ],
 "metadata": {
  "kernelspec": {
   "display_name": "Python 3",
   "language": "python",
   "name": "python3"
  },
  "language_info": {
   "codemirror_mode": {
    "name": "ipython",
    "version": 3
   },
   "file_extension": ".py",
   "mimetype": "text/x-python",
   "name": "python",
   "nbconvert_exporter": "python",
   "pygments_lexer": "ipython3",
   "version": "3.6.9"
  }
 },
 "nbformat": 4,
 "nbformat_minor": 5
}
