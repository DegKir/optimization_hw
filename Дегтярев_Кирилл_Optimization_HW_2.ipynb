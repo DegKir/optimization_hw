{
 "cells": [
  {
   "cell_type": "markdown",
   "metadata": {},
   "source": [
    "# Домашнее задание 2\n",
    "\n",
    "Это домашнее задание по материалам второго семинаров. Дедлайн по отправке - 23:55 17 февраля. \n",
    "\n",
    "Домашнее задание выполняется в этом же Jupyter Notebook'e и присылается мне на почту: __beznosikov.an@phystech.edu__.\n",
    "\n",
    "Решение каждой задачи необходимо поместить после её условия.\n",
    "\n",
    "Файл должен называться: Фамилия_Имя_Optimization_HW_2\n",
    "\n",
    "При полном запуске Вашего решения (Kernel -> Restart & Run All) все ячейки должны выполняться без ошибок. "
   ]
  },
  {
   "cell_type": "markdown",
   "metadata": {},
   "source": [
    "# Задача 1\n",
    "\n",
    "Рассмотрим проекцию на единичном $\\ell_1$-шар:\n",
    "\\begin{equation*}\n",
    "    \\text{proj}_{C}(x) = \\arg\\min_{y \\in C} \\|x-y\\|^2,\n",
    "\\end{equation*}\n",
    "где $C = \\{x ~|~ \\|x\\|_1 \\leq 1 \\}$.\n",
    "\n",
    "### __(а)__ Найдите выражение для такой проекции в явном виде."
   ]
  },
  {
   "cell_type": "markdown",
   "metadata": {},
   "source": [
    "Сделаем два облегчающих жизнь шага :"
   ]
  },
  {
   "cell_type": "markdown",
   "metadata": {},
   "source": [
    "1)Если точка лежит в $l_1$ шаре, то тогда ответ очевиден\n",
    "Будем тогда рассматривать точку $x:||x||_1>1$. \n",
    "Ясно, что в этом случае проекция будет лежать на границе $l_1$ - шара, значит достаточно рассмотреть минимизацию с ограничением типа равенства :"
   ]
  },
  {
   "cell_type": "markdown",
   "metadata": {},
   "source": [
    "2)Достаточно рассмотреть проекцию точки только с положительными координатами. Тогда в случае если $i-$я координата будет отрицательной, можно рассмотреть ее зеркальное отражение по $i-$й оси, найти проекцию, а для проекции найти зеркальное отражение относительно $i-$й оси. (сфера симметрична относительно отражения координат)"
   ]
  },
  {
   "cell_type": "markdown",
   "metadata": {},
   "source": [
    "Функция Лагранжа будет иметь вид :"
   ]
  },
  {
   "cell_type": "markdown",
   "metadata": {},
   "source": [
    "### $$\\mathcal{L}(y)=\\frac{1}{2}||x-y||_2^2+\\lambda(||y||_1-1)$$"
   ]
  },
  {
   "cell_type": "markdown",
   "metadata": {},
   "source": [
    "Считая градиенты функции Лагранжа получаем систему уравнений $(1),(2)$ :"
   ]
  },
  {
   "cell_type": "markdown",
   "metadata": {},
   "source": [
    "### $$(y-x)+\\lambda \\left(\\frac{y_1}{|y_1|},\\frac{y_2}{|y_2|},...,\\frac{y_n}{|y_n|}\\right)=0\\;\\;\\;(1)$$ "
   ]
  },
  {
   "cell_type": "markdown",
   "metadata": {},
   "source": [
    "### $$||y||_1=1\\;\\;\\;(2)$$"
   ]
  },
  {
   "cell_type": "markdown",
   "metadata": {},
   "source": [
    "Выразим из этой системы лямбду : "
   ]
  },
  {
   "cell_type": "markdown",
   "metadata": {},
   "source": [
    "$y_i=\\text{sgn}(x_i)\\max(|x_i|-\\lambda,0)=\\max(x_i-\\lambda,0)=(x_i-\\lambda)_+$"
   ]
  },
  {
   "cell_type": "markdown",
   "metadata": {},
   "source": [
    "Сложим модули этих равенств :"
   ]
  },
  {
   "cell_type": "markdown",
   "metadata": {},
   "source": [
    "$1=\\sum\\limits_{i=1}^n(x_i-\\lambda)_+$"
   ]
  },
  {
   "cell_type": "markdown",
   "metadata": {},
   "source": [
    "$\\sum\\limits_{i=1}^n(x_i-\\lambda)_+=1$"
   ]
  },
  {
   "cell_type": "markdown",
   "metadata": {},
   "source": [
    "Решим такое уравнение при помощи метода сортировки для решения кусочно-линейных уравнений :"
   ]
  },
  {
   "cell_type": "markdown",
   "metadata": {},
   "source": [
    "Без ограничения общности, будем считать что $x_i$ расположены в порядке возрастания : $x_1<...<x_n$"
   ]
  },
  {
   "cell_type": "markdown",
   "metadata": {},
   "source": [
    "В таком случае будем поочередно перебирать $\\lambda \\in [x_i,x_{i+1}]$ переходя от интервала к интервалу. При переходе к новому интервалу следующая по номеру функция будет активироваться. Таким образом на одном из интервалов найдется лямбда"
   ]
  },
  {
   "cell_type": "markdown",
   "metadata": {},
   "source": [
    "И тогда решение выпишется в виде"
   ]
  },
  {
   "cell_type": "markdown",
   "metadata": {},
   "source": [
    "$y_i=\\max(x_i-\\lambda,0)$"
   ]
  },
  {
   "cell_type": "markdown",
   "metadata": {},
   "source": [
    "### Сразу закодим оператор проекции"
   ]
  },
  {
   "cell_type": "markdown",
   "metadata": {},
   "source": [
    "$\\Sigma_{i=1}^nx_i-n\\lambda=1 $ : i-й шаг"
   ]
  },
  {
   "cell_type": "markdown",
   "metadata": {},
   "source": [
    "$\\lambda=(\\Sigma-1)/n$"
   ]
  },
  {
   "cell_type": "code",
   "execution_count": 1,
   "metadata": {},
   "outputs": [],
   "source": [
    "import numpy as np\n",
    "def proj_C(x):\n",
    "    if (np.linalg.norm(x,1) <= 1) :\n",
    "        return x\n",
    "    \n",
    "    #Проводим отражения координат вектора\n",
    "    symm=[]\n",
    "\n",
    "    for i in range(0,len(x)):\n",
    "        if x[i]>=0:\n",
    "            symm.append(1)\n",
    "        else :\n",
    "            symm.append(-1)\n",
    "            x[i]=-x[i]\n",
    "    \n",
    "    \n",
    "    #Ищем лямбду, считаем что все координаты положительные и точка не лежит внутри единичной l-1 сферы\n",
    "    lam=0\n",
    "    proj=[]\n",
    "    x_sorted=np.copy(x)\n",
    "    x_sorted.sort()\n",
    "    x_sorted=np.flip(x_sorted)\n",
    "\n",
    "    x_sorted=np.append(x_sorted,-np.inf)\n",
    "    #Надо отладить\n",
    "    for n in range(0,len(x_sorted)-1):\n",
    "        lam=(sum(x_sorted[0:n+1])-1)/(n+1)\n",
    "        if(lam <= x_sorted[n] and x_sorted[n+1] <= lam):\n",
    "            break\n",
    "    \n",
    "    #Теперь у нас есть lambda\n",
    "\n",
    "    for i in range(0,len(x)):\n",
    "        proj.append(max(x[i]-lam,0))\n",
    "\n",
    "    #Проводим обратные отражения :\n",
    "    for i in range(0,len(x)):\n",
    "        proj[i]=proj[i]*symm[i]\n",
    "    \n",
    "    return proj;\n",
    "        \n",
    "    "
   ]
  },
  {
   "cell_type": "code",
   "execution_count": 2,
   "metadata": {
    "scrolled": false
   },
   "outputs": [
    {
     "data": {
      "text/plain": [
       "[0.49999999500000003, 0.5000000050000001]"
      ]
     },
     "execution_count": 2,
     "metadata": {},
     "output_type": "execute_result"
    }
   ],
   "source": [
    "x=[0.5,0.50000001]\n",
    "proj_C(x)"
   ]
  },
  {
   "cell_type": "markdown",
   "metadata": {},
   "source": [
    "### __(б)__ Сравните:\n",
    "\\begin{equation*}\n",
    "    \\text{proj}_C (x) \\quad \\text{и} \\quad \\text{prox}_{\\lambda \\mathbb{I}_C} (x),\n",
    "\\end{equation*}\n",
    "где $\\lambda > 0$, а $\\mathbb{I}_C$ - индикаторная функция множества $C$:\n",
    "$$\n",
    "\\mathbb{I}_C = \n",
    "\\begin{cases}\n",
    "0 ,& x \\in C \\\\\n",
    "+\\infty, &x \\notin C.\n",
    "\\end{cases}\n",
    "$$\n",
    "Являются ли данные операторы эквивалентными для любых $\\lambda > 0$ и выпуклых $C$?"
   ]
  },
  {
   "cell_type": "markdown",
   "metadata": {},
   "source": [
    "Зафиксируем произвольное лямбда больше нуля и выпуклое $C$"
   ]
  },
  {
   "cell_type": "markdown",
   "metadata": {},
   "source": [
    "$$\\text{prox}_{\\lambda\\mathbf{1}_C}(x)=\\text{argmin}_{y\\in \\mathbf{R}^d} \\left(\\frac{1}{2}||x-y||^2+\\lambda\\mathbf{1}_C(y)) \\right)$$"
   ]
  },
  {
   "cell_type": "markdown",
   "metadata": {},
   "source": [
    "Если $y\\notin C$, то индикаторная функция принимает бесконечность и аргминимум пустой.Значит"
   ]
  },
  {
   "cell_type": "markdown",
   "metadata": {},
   "source": [
    "$$\\text{prox}_{\\lambda\\mathbf{1}_C}(x)=\\text{argmin}_{y\\in C}\\left(\\frac{1}{2}||x-y||^2 \\right)$$"
   ]
  },
  {
   "cell_type": "markdown",
   "metadata": {},
   "source": [
    "Что совпадает с оператором проекции"
   ]
  },
  {
   "cell_type": "markdown",
   "metadata": {},
   "source": [
    "## Задача 2\n",
    "\n",
    "Рассмотрим задачу минимизации эмпирического риска:\n",
    "\\begin{equation}\n",
    "\\min_{w \\in \\mathbb{R}^d} \\frac{1}{n} \\sum\\limits_{i=1}^n l (g(w, x_i), y_i),\n",
    "\\end{equation}\n",
    "где $l$ - функция потерь, $g$ - модель, $w$ - параметры модели, $\\{x_i, y_i\\}_{i=1}^n$ - выборка данных из векторов признаков $x_i$ и меток $y_i$.\n",
    "\n",
    "Далее будем рассматривать линейной модель $g(w, x) = w^T x$ и квадратичную функцию потерь $l(z, y) = (z-y)^2$.\n",
    "\n",
    "## __(а)__ Запишите задачу минимизации эмпирического риска с линейной моделью  и квадратичной функцией потерь в векторно-матричном виде, используя $X$ - матрицу из векторов $\\{x_i\\}$ и вектор $y$ - из $\\{y_i\\}$."
   ]
  },
  {
   "cell_type": "markdown",
   "metadata": {},
   "source": [
    "$$ \\min_{w\\in R^d}\\frac{1}{n} \\left< \\omega^T X -y, \\omega^T X -y \\right>$$"
   ]
  },
  {
   "cell_type": "markdown",
   "metadata": {},
   "source": [
    "## __(б)__ К заданию приложен датасет _mushrooms_. С помощью следующего кода сформируйте матрицу $X$ и вектор $y$:"
   ]
  },
  {
   "cell_type": "code",
   "execution_count": 3,
   "metadata": {},
   "outputs": [],
   "source": [
    "dataset = \"mushrooms.txt\" \n",
    "#файл должен лежать в той же деректории, что и notebook"
   ]
  },
  {
   "cell_type": "code",
   "execution_count": 4,
   "metadata": {},
   "outputs": [],
   "source": [
    "from sklearn.datasets import load_svmlight_file\n",
    "data = load_svmlight_file(dataset)\n",
    "X, y = data[0].toarray(), data[1]\n",
    "n, d = X.shape"
   ]
  },
  {
   "cell_type": "code",
   "execution_count": 5,
   "metadata": {},
   "outputs": [
    {
     "data": {
      "text/plain": [
       "112"
      ]
     },
     "execution_count": 5,
     "metadata": {},
     "output_type": "execute_result"
    }
   ],
   "source": [
    "len(X[1])"
   ]
  },
  {
   "cell_type": "code",
   "execution_count": 6,
   "metadata": {},
   "outputs": [
    {
     "data": {
      "text/plain": [
       "array([1., 2., 2., ..., 2., 1., 2.])"
      ]
     },
     "execution_count": 6,
     "metadata": {},
     "output_type": "execute_result"
    }
   ],
   "source": [
    "y"
   ]
  },
  {
   "cell_type": "code",
   "execution_count": 7,
   "metadata": {
    "scrolled": true
   },
   "outputs": [
    {
     "data": {
      "text/plain": [
       "8124"
      ]
     },
     "execution_count": 7,
     "metadata": {},
     "output_type": "execute_result"
    }
   ],
   "source": [
    "len(X)"
   ]
  },
  {
   "cell_type": "code",
   "execution_count": 8,
   "metadata": {},
   "outputs": [
    {
     "data": {
      "text/plain": [
       "8124"
      ]
     },
     "execution_count": 8,
     "metadata": {},
     "output_type": "execute_result"
    }
   ],
   "source": [
    "len(y)"
   ]
  },
  {
   "cell_type": "markdown",
   "metadata": {},
   "source": [
    "Разделите (лучше случайно) данные (а значит $X$ и $y$) на две части: обучающую и тестовую (примерно в отношении $4$ к $1$). Опишите, как это было сделано."
   ]
  },
  {
   "cell_type": "markdown",
   "metadata": {},
   "source": [
    "Достану функцию из sklearn :"
   ]
  },
  {
   "cell_type": "code",
   "execution_count": 9,
   "metadata": {},
   "outputs": [],
   "source": [
    "from sklearn.model_selection import train_test_split"
   ]
  },
  {
   "cell_type": "code",
   "execution_count": 10,
   "metadata": {},
   "outputs": [],
   "source": [
    "X_train, X_test, y_train, y_test = train_test_split(X,y, train_size=0.2,test_size=0.8, random_state=42)"
   ]
  },
  {
   "cell_type": "markdown",
   "metadata": {},
   "source": [
    "## __(в)__ Для обучающей части $X_{train}$, $y_{train}$ оцените константу $L$ задачи обучения/оптимизации. Будет ли задача выпуклой? Сильно выпуклой?"
   ]
  },
  {
   "cell_type": "markdown",
   "metadata": {},
   "source": [
    "Сведем эту функцию к квадратичной функции из первого домашнего задания: (на 1/n пока закроем глаза)"
   ]
  },
  {
   "cell_type": "markdown",
   "metadata": {},
   "source": [
    "$$(y-X\\omega)^T(y-X\\omega)=(y^T-\\omega^TX^T)(y-X\\omega)=y^Ty-\\omega^TX^Ty-y^TX\\omega+\\omega^TX^TX\\omega$$"
   ]
  },
  {
   "cell_type": "markdown",
   "metadata": {},
   "source": [
    "Поскольку минимизация происходит по омеге, на $y^Ty$ можно закрыть глаза, т.к. это некоторая константа"
   ]
  },
  {
   "cell_type": "markdown",
   "metadata": {},
   "source": [
    "$\\omega^T X^TX \\omega-\\left<X\\omega,y\\right>-\\left<y,X\\omega\\right>+y^Ty=\\omega^TX^TX\\omega-2\\left<(y^TX)\\omega \\right>=\\frac{1}{2}x^TAx-b^Tx$, где"
   ]
  },
  {
   "cell_type": "markdown",
   "metadata": {},
   "source": [
    "$A=2\\times X^TX,\\;\\; b^T=2*y^TX$"
   ]
  },
  {
   "cell_type": "code",
   "execution_count": 11,
   "metadata": {
    "scrolled": true
   },
   "outputs": [],
   "source": [
    "X_train=np.array(X_train)\n",
    "y_train=np.array(y_train)"
   ]
  },
  {
   "cell_type": "code",
   "execution_count": 12,
   "metadata": {},
   "outputs": [],
   "source": [
    "A=2*np.matmul(X_train.T,X_train)\n",
    "b=2*np.matmul(y_train.T,X_train)"
   ]
  },
  {
   "cell_type": "markdown",
   "metadata": {},
   "source": [
    "Проверим положительную полуопределенность :"
   ]
  },
  {
   "cell_type": "code",
   "execution_count": 13,
   "metadata": {
    "scrolled": true
   },
   "outputs": [
    {
     "data": {
      "text/plain": [
       "True"
      ]
     },
     "execution_count": 13,
     "metadata": {},
     "output_type": "execute_result"
    }
   ],
   "source": [
    "np.all(np.linalg.eigvals(A)+0.00000001 >= 0)"
   ]
  },
  {
   "cell_type": "markdown",
   "metadata": {},
   "source": [
    "Значит задача будет выпуклой _(можно было это понять и из теоретических соображений, где-то в линале или вычебре были рассуждения про то что $X^TX$ симметричная и положительно определенная; еще можно это понять потому что исходная функция - квадрат второй нормы от выпуклой функции)_"
   ]
  },
  {
   "cell_type": "markdown",
   "metadata": {},
   "source": [
    "При этом строгой определнности не будет :"
   ]
  },
  {
   "cell_type": "code",
   "execution_count": 14,
   "metadata": {},
   "outputs": [
    {
     "data": {
      "text/plain": [
       "False"
      ]
     },
     "execution_count": 14,
     "metadata": {},
     "output_type": "execute_result"
    }
   ],
   "source": [
    "np.all(np.linalg.eigvals(A)>0)"
   ]
  },
  {
   "cell_type": "markdown",
   "metadata": {},
   "source": [
    "_Опять же в курсах до этого были контрпримеры на тот факт, что $X^TX$ не обязана быть строго положительно определенной_"
   ]
  },
  {
   "cell_type": "markdown",
   "metadata": {},
   "source": [
    "Константа L:"
   ]
  },
  {
   "cell_type": "code",
   "execution_count": 15,
   "metadata": {},
   "outputs": [
    {
     "data": {
      "text/plain": [
       "34732.10445682784"
      ]
     },
     "execution_count": 15,
     "metadata": {},
     "output_type": "execute_result"
    }
   ],
   "source": [
    "np.linalg.norm(A)"
   ]
  },
  {
   "cell_type": "markdown",
   "metadata": {},
   "source": [
    "## __(г)__ Используя материалы прошлого ДЗ (по желанию), решите задачу оптимизации/обучите модель машинного обучения с помощью градиентного спуска. Изобразите график сходимости. Какой критерий сходимости будет использовать? Сделайте вывод. Опишите проблемы, с которыми пришлось столкнуться."
   ]
  },
  {
   "cell_type": "code",
   "execution_count": 16,
   "metadata": {},
   "outputs": [],
   "source": [
    "ITERATIONS=1000  #Максимальное число итераций\n",
    "EPSILON=0.0001   #Точность "
   ]
  },
  {
   "cell_type": "code",
   "execution_count": 17,
   "metadata": {},
   "outputs": [],
   "source": [
    "def gradient_decline_iteration(x_k,gamma_k,A,b):\n",
    "    x_new=x_k-gamma_k*gradient(A,b,x_k);\n",
    "    return x_new;\n",
    "\n",
    "def gradient_decline(A,b,x,gamma,iterations,epsilon):\n",
    "    x_prev=x\n",
    "    arr=[]\n",
    "    for i in range(iterations):\n",
    "        x_prev=x\n",
    "        x=gradient_decline_iteration(x,gamma,A,b)\n",
    "        arr.append(np.linalg.norm(x-x_prev))\n",
    "        if(np.linalg.norm(x-x_prev) < epsilon):\n",
    "            break\n",
    "    return x,arr\n",
    "\n",
    "def gradient(A,b,x):\n",
    "    return np.matmul(A,x)-np.transpose(b);\n",
    "\n",
    "zero=np.zeros(len(A))"
   ]
  },
  {
   "cell_type": "code",
   "execution_count": 18,
   "metadata": {
    "scrolled": true
   },
   "outputs": [],
   "source": [
    "x,arr=gradient_decline(A,b,zero,1/np.linalg.norm(A),ITERATIONS,EPSILON)"
   ]
  },
  {
   "cell_type": "code",
   "execution_count": 19,
   "metadata": {},
   "outputs": [
    {
     "data": {
      "text/plain": [
       "<matplotlib.figure.Figure at 0x7f98054d3dd8>"
      ]
     },
     "metadata": {},
     "output_type": "display_data"
    }
   ],
   "source": [
    "import matplotlib.pyplot as plt\n",
    "\n",
    "#arr = [1, 2, 3, 4, 5]\n",
    "#почему-то чтобы график прогрузился нужно запустить ячейку еще раз\n",
    "plt.plot(range(len(arr)), arr)\n",
    "plt.xlabel(\"Iteration number\")\n",
    "plt.ylabel(\"||x_new-x_old||, log scale\")\n",
    "plt.yscale('log')\n",
    "plt.show()"
   ]
  },
  {
   "cell_type": "markdown",
   "metadata": {},
   "source": [
    "## __(д)__ Как использовать итоговую модель для предсказания? Ответив на вопрос, сделайте предсказания на тестовой выборке. Сравните с реальными метками. Количество правильно угаданных меток есть точность/accuracy вашей модели. Запустите еще раз процесс обучения из пункта г), постройте как меняется точность модели от номера итерации градиентного спуска (измеряйте не каждую итерацию, а, например, каждую 100 или 1000). "
   ]
  },
  {
   "cell_type": "markdown",
   "metadata": {},
   "source": [
    "Теперь у нас есть набор параметров $\\omega$ при котором функционал ошибки (приближенно) принимает наименьшее значение. Ответы будем получать по формуле $g=w^tx$. Теперь устроим тест"
   ]
  },
  {
   "cell_type": "markdown",
   "metadata": {},
   "source": [
    "Будем считать что ответ засчитан, если в результате нам сказали правильный ответ с точностью 0.1"
   ]
  },
  {
   "cell_type": "code",
   "execution_count": 20,
   "metadata": {
    "scrolled": true
   },
   "outputs": [],
   "source": [
    "Delta=0\n",
    "Accuracy_error=0.1\n",
    "y_pred=[]\n",
    "for i in range(len(X_test)):\n",
    "    y_pred.append(np.matmul(x.T,X_test[i]))\n",
    "    \n",
    "for i in range(len(y_pred)):\n",
    "    if(abs(y_pred[i]-y_test[i])<Accuracy_error):\n",
    "        Delta+=1"
   ]
  },
  {
   "cell_type": "markdown",
   "metadata": {},
   "source": [
    "Процент правильно отгаданнных ответов "
   ]
  },
  {
   "cell_type": "code",
   "execution_count": 21,
   "metadata": {},
   "outputs": [
    {
     "name": "stdout",
     "output_type": "stream",
     "text": [
      "При количестве итераций N = 1000, процент правильных ответов составил 92.92307692307692%\n"
     ]
    }
   ],
   "source": [
    "print(\"При количестве итераций N = {}, процент правильных ответов составил {}%\".format(ITERATIONS,Delta/(len(y_test))*100))"
   ]
  },
  {
   "cell_type": "code",
   "execution_count": 22,
   "metadata": {},
   "outputs": [
    {
     "data": {
      "text/plain": [
       "array([-0.04053243, -0.00747963,  0.0471909 ,  0.03779075,  0.0979805 ,\n",
       "        0.04235906,  0.07448408,  0.06473025, -0.04053243,  0.07862725,\n",
       "        0.06103248, -0.06320738,  0.03541855,  0.02541648,  0.03482091,\n",
       "       -0.06680151,  0.05071311,  0.05211098,  0.00326133,  0.04454421,\n",
       "        0.07527554,  0.10203361,  0.41222928, -0.33058898, -0.15627499,\n",
       "       -0.03791201,  0.40422322,  0.42749091, -0.28337122, -0.1299391 ,\n",
       "       -0.12854796,  0.07208037,  0.10522878,  0.02548719,  0.15182196,\n",
       "        0.22948354, -0.05217439, -0.03290994,  0.07014625,  0.01400755,\n",
       "        0.01987752,  0.03759999,  0.0296651 ,  0.03937681,  0.03489848,\n",
       "       -0.10867651,  0.03695388,  0.03016081,  0.00620921,  0.13091479,\n",
       "        0.04639436,  0.04102211,  0.06214946,  0.03429232,  0.03984526,\n",
       "       -0.03285129,  0.06295051,  0.06046103,  0.08674889, -0.03791201,\n",
       "        0.01088352,  0.0717185 ,  0.0157141 ,  0.07797361,  0.01323568,\n",
       "        0.01300976,  0.01268599,  0.        , -0.03791201,  0.02614551,\n",
       "        0.06778062,  0.03857309,  0.07797361,  0.03538007,  0.03788801,\n",
       "        0.0426705 , -0.11119025,  0.17730915,  0.        ,  0.04019893,\n",
       "        0.09933554,  0.03777468,  0.03747578,  0.17774538, -0.03791201,\n",
       "        0.06917475, -0.03791201,  0.02273684, -0.11423542,  0.23754499,\n",
       "        0.03205168, -0.14430712,  0.133935  ,  0.02743802,  0.13829403,\n",
       "       -0.32762568,  0.17049156,  0.10566303,  0.04136862, -0.02134969,\n",
       "        0.01796266,  0.07901526,  0.02116935,  0.03019348,  0.05031808,\n",
       "        0.02143225, -0.01313949, -0.03029609,  0.01863362,  0.02245921,\n",
       "       -0.00556764,  0.16378729])"
      ]
     },
     "execution_count": 22,
     "metadata": {},
     "output_type": "execute_result"
    }
   ],
   "source": [
    "x"
   ]
  },
  {
   "cell_type": "markdown",
   "metadata": {},
   "source": [
    "### Теперь будем играться с различным числом итераций и различными точностями :"
   ]
  },
  {
   "cell_type": "code",
   "execution_count": 32,
   "metadata": {},
   "outputs": [],
   "source": [
    "norm=np.linalg.norm(A)\n",
    "percentage=[]\n",
    "max_iterations=2000\n",
    "step=100\n",
    "for i in range(0,max_iterations,step):\n",
    "    ITERATIONS=i\n",
    "    x,arr=gradient_decline(A,b,zero,1/norm,ITERATIONS,EPSILON)\n",
    "    \n",
    "    y_pred=[]\n",
    "    for i in range(len(X_test)):\n",
    "        y_pred.append(np.matmul(np.transpose(x),X_test[i]))\n",
    "        \n",
    "    Delta=0\n",
    "    EPSILON_ANSWER=0.1\n",
    "    for i in range(len(y_pred)):\n",
    "        if(abs(y_pred[i]-y_test[i])<EPSILON_ANSWER):\n",
    "            Delta+=1\n",
    "    percentage.append(Delta/len(y_test))"
   ]
  },
  {
   "cell_type": "code",
   "execution_count": 33,
   "metadata": {
    "scrolled": true
   },
   "outputs": [
    {
     "data": {
      "image/png": "[encoded data removed]",
      "text/plain": [
       "<matplotlib.figure.Figure at 0x7f2156e9b748>"
      ]
     },
     "metadata": {
      "needs_background": "light"
     },
     "output_type": "display_data"
    }
   ],
   "source": [
    "import matplotlib.pyplot as plt\n",
    "\n",
    "#arr = [1, 2, 3, 4, 5]\n",
    "xaxis=np.arange(0,len(percentage),1) \n",
    "xaxis*=step\n",
    "\n",
    "plt.plot(xaxis, percentage)\n",
    "\n",
    "plt.xlabel(\"Количество итераций\")\n",
    "plt.ylabel(\"Точность предсказателя\")\n",
    "plt.grid()\n",
    "plt.show()"
   ]
  },
  {
   "cell_type": "markdown",
   "metadata": {},
   "source": [
    "### __(e)__ Теперь рассмотрим эту же задачу обучения на $\\ell_1$-шаре с радиусом $\\lambda$. Повторите пункты г) и д) только теперь градиентный спуск должен быть модифицирован с помощью оператора проекции. Пробуйте различные $\\lambda > 0$ и найдите лучшее (опишите почему именно такое лучшее). Удалось ли улучшить процесс обучения/точность модели на тестовой выборке? "
   ]
  },
  {
   "cell_type": "markdown",
   "metadata": {},
   "source": [
    "### $$ \\min_{w\\in B_{\\mathcal{l}_1}} \\left< \\omega^T X -y, \\omega^T X -y \\right>$$"
   ]
  },
  {
   "cell_type": "markdown",
   "metadata": {},
   "source": [
    "Немного модифицируем нашу проекцию для того чтобы проектировать на шар произвольного радиуса :\n",
    "Масштабируем задачу - уменьшим координаты точки в $R$ раз, спроецируем эту точку на $l_1$ сферу единичного радиуса и затем раздуем координаты проекции обратно в $R$ раз (по сути меняется масштаб задачи, а геометрические соотношения которыми определяется проекциями останутся такими-же,т.к. все размеры меняются соответственно)"
   ]
  },
  {
   "cell_type": "code",
   "execution_count": 34,
   "metadata": {},
   "outputs": [],
   "source": [
    "def proj_CR(x,R):\n",
    "    x=x/R\n",
    "    projection=np.array(proj_C(x))\n",
    "    projection*=R\n",
    "    return projection"
   ]
  },
  {
   "cell_type": "code",
   "execution_count": 35,
   "metadata": {},
   "outputs": [],
   "source": [
    "def gradient_decline_iteration(x_k,gamma_k,A,b,lam):\n",
    "    x_new=proj_CR(x_k-gamma_k*gradient(A,b,x_k),lam);\n",
    "    return x_new;\n",
    "\n",
    "def gradient_decline(A,b,x,gamma,iterations,epsilon,lam):\n",
    "    x_prev=x\n",
    "    arr=[]\n",
    "    for i in range(iterations):\n",
    "        x_prev=x\n",
    "        x=gradient_decline_iteration(x,gamma,A,b,lam)\n",
    "        arr.append(np.linalg.norm(x-x_prev))\n",
    "        if(np.linalg.norm(x-x_prev) < epsilon):\n",
    "            break\n",
    "    return x,arr\n",
    "\n",
    "\n",
    "zero=np.zeros(len(A))"
   ]
  },
  {
   "cell_type": "code",
   "execution_count": 36,
   "metadata": {
    "scrolled": false
   },
   "outputs": [],
   "source": [
    "ITERATIONS=1000\n",
    "EPSILON=0.0001\n",
    "LAM=5\n",
    "\n",
    "x,arr=gradient_decline(A,b,zero,1/np.linalg.norm(A),ITERATIONS,EPSILON,LAM)"
   ]
  },
  {
   "cell_type": "code",
   "execution_count": 37,
   "metadata": {},
   "outputs": [
    {
     "data": {
      "image/png": "[encoded data removed]",
      "text/plain": [
       "<matplotlib.figure.Figure at 0x7f2156e9b550>"
      ]
     },
     "metadata": {
      "needs_background": "light"
     },
     "output_type": "display_data"
    }
   ],
   "source": [
    "import matplotlib.pyplot as plt\n",
    "\n",
    "#arr = [1, 2, 3, 4, 5]\n",
    "\n",
    "\n",
    "plt.plot(range(len(arr)), arr)\n",
    "plt.xlabel(\"Iteration number\")\n",
    "plt.ylabel(\"||x_new-x_old||, log scale\")\n",
    "plt.yscale('log')\n",
    "plt.show()"
   ]
  },
  {
   "cell_type": "code",
   "execution_count": 38,
   "metadata": {},
   "outputs": [],
   "source": [
    "Delta=0\n",
    "Accuracy_error=0.1\n",
    "y_pred=[]\n",
    "for i in range(len(X_test)):\n",
    "    y_pred.append(np.matmul(x.T,X_test[i]))\n",
    "    \n",
    "for i in range(len(y_pred)):\n",
    "    if(abs(y_pred[i]-y_test[i])<Accuracy_error):\n",
    "        Delta+=1"
   ]
  },
  {
   "cell_type": "code",
   "execution_count": 39,
   "metadata": {},
   "outputs": [
    {
     "name": "stdout",
     "output_type": "stream",
     "text": [
      "При параметре lambda = 5, количестве итераций N = 1000, процент правильных ответов составил 91.73846153846154%\n"
     ]
    }
   ],
   "source": [
    "print(\"При параметре lambda = {}, количестве итераций N = {}, процент правильных ответов составил {}%\".format(LAM,ITERATIONS,Delta/(len(y_test))*100))"
   ]
  },
  {
   "cell_type": "markdown",
   "metadata": {},
   "source": [
    "Попробуем при различных лямбдах :"
   ]
  },
  {
   "cell_type": "code",
   "execution_count": 40,
   "metadata": {
    "scrolled": true
   },
   "outputs": [],
   "source": [
    "lambdas=[0.5,1,5,15,30]\n",
    "percentage_all=[]\n",
    "\n",
    "for LAM in lambdas:\n",
    "    norm=np.linalg.norm(A)\n",
    "    percentage=[]\n",
    "    for i in range(0,1000,100):\n",
    "        ITERATIONS=i\n",
    "        x,arr=gradient_decline(A,b,zero,1/norm,ITERATIONS,EPSILON,LAM)\n",
    "        \n",
    "        y_pred=[]\n",
    "        for i in range(len(X_test)):\n",
    "            y_pred.append(np.matmul(x.T,X_test[i]))\n",
    "        \n",
    "        Delta=0\n",
    "        Accuracy_error=0.1\n",
    "        for i in range(len(y_pred)):\n",
    "            if(abs(y_pred[i]-y_test[i])<Accuracy_error):\n",
    "                Delta+=1\n",
    "        percentage.append(Delta/len(y_test))\n",
    "    percentage_all.append(percentage)"
   ]
  },
  {
   "cell_type": "code",
   "execution_count": 41,
   "metadata": {
    "scrolled": true
   },
   "outputs": [
    {
     "data": {
      "image/png": "[encoded data removed]",
      "text/plain": [
       "<matplotlib.figure.Figure at 0x7f2156d16da0>"
      ]
     },
     "metadata": {
      "needs_background": "light"
     },
     "output_type": "display_data"
    }
   ],
   "source": [
    "import matplotlib.pyplot as plt\n",
    "\n",
    "# Создание массива данных\n",
    "\n",
    "# Создание графика и задание цветов линий и легенды\n",
    "fig, ax = plt.subplots()\n",
    "linestyles = ['-', '--', '-.','-', '--', '-.']\n",
    "colors = ['red', 'green', 'blue','black','c']\n",
    "labels = lambdas\n",
    "\n",
    "# Нанесение массивов percentage на график\n",
    "for i in range(len(percentage_all)):\n",
    "    ax.plot(percentage_all[i], color=colors[i], label=labels[i],linestyle=linestyles[i % len(linestyles)])\n",
    "\n",
    "# Оформление графика\n",
    "ax.set_xlabel('Количество итераций/100')\n",
    "ax.set_ylabel('Точность предсказателя')\n",
    "ax.set_title('Graph Title')\n",
    "ax.legend()\n",
    "\n",
    "# Отображение графика\n",
    "plt.show()"
   ]
  },
  {
   "cell_type": "markdown",
   "metadata": {},
   "source": [
    "Оптимальным будет тот радиус, который обрубает первые шаги, \"насильно проецируя\" точку на сферу. Но если выбрать сферу слишком маленького радиуса, то тогда оптимум будет лежать вне этой точки и градиентный метод будет пытаться выйти за границу сферы по антиградиенту, но проекция будет утаскивать его назад. Это видно при маленьких радиусах шара."
   ]
  },
  {
   "cell_type": "markdown",
   "metadata": {},
   "source": [
    "Процесс обучения улучшить при помощи проекции не удалось, в случае без проекции accuracy растет лучше всего - 92.92%, тогда как у методов с проекцией :"
   ]
  },
  {
   "cell_type": "code",
   "execution_count": 42,
   "metadata": {},
   "outputs": [
    {
     "name": "stdout",
     "output_type": "stream",
     "text": [
      "0.0\n",
      "0.4827692307692308\n",
      "0.9158461538461539\n",
      "0.9270769230769231\n",
      "0.9270769230769231\n"
     ]
    }
   ],
   "source": [
    "for i in range (len(percentage_all)):\n",
    "    print(percentage_all[i][-1])"
   ]
  },
  {
   "cell_type": "markdown",
   "metadata": {},
   "source": [
    "т.е. хуже или так же"
   ]
  }
 ],
 "metadata": {
  "kernelspec": {
   "display_name": "Python 3",
   "language": "python",
   "name": "python3"
  },
  "language_info": {
   "codemirror_mode": {
    "name": "ipython",
    "version": 3
   },
   "file_extension": ".py",
   "mimetype": "text/x-python",
   "name": "python",
   "nbconvert_exporter": "python",
   "pygments_lexer": "ipython3",
   "version": "3.6.9"
  }
 },
 "nbformat": 4,
 "nbformat_minor": 5
}
