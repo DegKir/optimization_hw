{
 "cells": [
  {
   "cell_type": "markdown",
   "metadata": {},
   "source": [
    "# Домашнее задание 5\n",
    "\n",
    "Это домашнее задание по материалам второго семинаров. Дедлайн по отправке - 23:55 17 марта. \n",
    "\n",
    "Домашнее задание выполняется в этом же Jupyter Notebook'e и присылается мне на почту: __beznosikov.an@phystech.edu__.\n",
    "\n",
    "Решение каждой задачи необходимо поместить после её условия.\n",
    "\n",
    "Файл должен называться: Фамилия_Имя_Optimization_HW_5\n",
    "\n",
    "При полном запуске Вашего решения (Kernel -> Restart & Run All) все ячейки должны выполняться без ошибок. "
   ]
  },
  {
   "cell_type": "markdown",
   "metadata": {},
   "source": [
    "## Задача 1\n",
    "\n",
    "Рассмотрим задачу минимизации:\n",
    "\\begin{equation}\n",
    "\\min_{x \\in \\mathbb{R}^d} f(x) = \\frac{1}{2}x^T A x - b^T x,\n",
    "\\end{equation}\n",
    "где в качестве матрицы $A$ - случайная матрица с $L =1000$, $\\mu = 1$, $d = 100$, $b$ - так же случайный вектор.\n",
    "\n",
    "### __(а)__ Для такой задачи симулируем итерацию SGD:\n",
    "$$\n",
    "x^{k+1} = x^k - \\gamma (\\nabla f(x^k) + \\xi^k),\n",
    "$$\n",
    "где $\\xi^k$ - независимая от $x^k$ случайная величина из нормального распределения $\\mathcal{N}(0, 100)$.\n",
    "\n",
    "Для такого метода с $\\gamma = \\frac{1}{L}$ постройте график сходимости (критерий $\\| \\nabla f(x^k)\\|^2$). Постройте на этом же графике сходимость честного градиентного спуска c $\\gamma = \\frac{1}{L}$. Сделайте вывод о характере сходимости нового метода."
   ]
  },
  {
   "cell_type": "markdown",
   "metadata": {},
   "source": [
    "#### Создаем матрицу и столбец: "
   ]
  },
  {
   "cell_type": "code",
   "execution_count": 1,
   "metadata": {},
   "outputs": [],
   "source": [
    "from scipy.stats import ortho_group\n",
    "import numpy as np\n",
    "def get_matrix_2(d,mu,L):\n",
    "    vec=np.random.uniform(low=mu, high=L, size=d-2)\n",
    "    vec=np.append(vec,mu)\n",
    "    vec=np.append(vec,L)\n",
    "    print(\"eigenvals are{}\".format(vec))\n",
    "    O=ortho_group.rvs(dim=d)\n",
    "    D=np.diag(vec)\n",
    "    temp=np.matmul(np.transpose(O),D)\n",
    "    result = np.matmul(temp,O)\n",
    "    return result"
   ]
  },
  {
   "cell_type": "code",
   "execution_count": 2,
   "metadata": {},
   "outputs": [],
   "source": [
    "DIMENSIONS=100\n",
    "mu=1\n",
    "L=1000\n",
    "EPSILON=0.00000001"
   ]
  },
  {
   "cell_type": "code",
   "execution_count": 3,
   "metadata": {
    "scrolled": false
   },
   "outputs": [
    {
     "name": "stdout",
     "output_type": "stream",
     "text": [
      "eigenvals are[  16.16618075  743.30580135  490.51935802  390.31051241  278.79865466\n",
      "  447.63589166  119.45285255  653.58422141  967.91907972  302.84707436\n",
      "  436.48701302  828.48262185  322.87547397  859.79279542  870.20029001\n",
      "  528.29047303  828.43771553  723.35767159  266.73469322  620.04524075\n",
      "  129.80561331  831.15223861   73.8759304   230.36206675  154.31156685\n",
      "  581.40311023  171.55340195   51.22886517  342.2527887   673.47211375\n",
      "  937.7745774   387.01635419  953.09686752  744.73975319   59.17088934\n",
      "  643.61557174  917.27654888  740.43227229  799.26784541  473.82933005\n",
      "   50.36938549  515.59843259  372.4425602   704.05162374  856.36181997\n",
      "  759.8460212   887.17688037  655.35907116  861.02191772   34.48605049\n",
      "  971.56861442  958.50470011  459.14749905  824.15831803  732.37657934\n",
      "  372.13288033  936.87862098  896.22021577  989.19162093  736.28252005\n",
      "  589.55155669  948.8396      637.74850263  166.14210911  943.35322376\n",
      "  937.46959627  612.3659614   364.34647262  744.71635461  536.68704198\n",
      "  705.55180576  452.14996282  419.51218782  985.68249438   48.34498668\n",
      "  462.26830895  687.51706789  731.60270207  741.09959724  124.54703571\n",
      "  863.75370044   22.43099555  210.05378876  822.03056553  799.64738215\n",
      "  101.44825827  741.39399615  376.57128101  979.66254402   54.94998476\n",
      "  550.96935707  553.54553185  127.22533173  965.16655218  847.15370909\n",
      "  966.36299605  867.38674935  496.25667371    1.         1000.        ]\n"
     ]
    }
   ],
   "source": [
    "A=get_matrix_2(DIMENSIONS,mu,L)"
   ]
  },
  {
   "cell_type": "code",
   "execution_count": 4,
   "metadata": {
    "scrolled": true
   },
   "outputs": [
    {
     "data": {
      "text/plain": [
       "array([0.7121721 , 0.45617321, 0.05114289, 0.44036725, 0.52323534,\n",
       "       0.21745231, 0.57857507, 0.85185227, 0.52730428, 0.32906234,\n",
       "       0.96891211, 0.51994915, 0.6348388 , 0.69278627, 0.40252437,\n",
       "       0.6303385 , 0.97641638, 0.65677164, 0.72585055, 0.95915614,\n",
       "       0.41581401, 0.96542535, 0.72028446, 0.33093496, 0.23208215,\n",
       "       0.76501845, 0.1367775 , 0.85821886, 0.04527344, 0.82240944,\n",
       "       0.94210847, 0.61729478, 0.74380231, 0.76501141, 0.5244104 ,\n",
       "       0.69739642, 0.71129333, 0.20980678, 0.47157127, 0.69848088,\n",
       "       0.62685704, 0.84073338, 0.42024002, 0.33812728, 0.20502599,\n",
       "       0.08049826, 0.2560292 , 0.28956194, 0.03702237, 0.56481643,\n",
       "       0.58526854, 0.3171369 , 0.45274854, 0.87377615, 0.35444429,\n",
       "       0.23445073, 0.10871321, 0.71184598, 0.96872088, 0.13657787,\n",
       "       0.58359998, 0.41520267, 0.98004303, 0.62238107, 0.2024287 ,\n",
       "       0.63956306, 0.56837364, 0.17427613, 0.90237136, 0.83631389,\n",
       "       0.388694  , 0.24887566, 0.73334371, 0.7482448 , 0.59294077,\n",
       "       0.67536294, 0.94534092, 0.79545357, 0.1406403 , 0.32381301,\n",
       "       0.98568206, 0.74216368, 0.18964254, 0.29808928, 0.84880761,\n",
       "       0.61261464, 0.78702912, 0.15660978, 0.86355721, 0.10798877,\n",
       "       0.72727245, 0.99395979, 0.62738071, 0.33660244, 0.47591041,\n",
       "       0.68918493, 0.62328285, 0.15364818, 0.50644346, 0.70059824])"
      ]
     },
     "execution_count": 4,
     "metadata": {},
     "output_type": "execute_result"
    }
   ],
   "source": [
    "b=np.random.rand(DIMENSIONS)\n",
    "b"
   ]
  },
  {
   "cell_type": "code",
   "execution_count": 5,
   "metadata": {},
   "outputs": [],
   "source": [
    "def f(x):\n",
    "    return 1/2*np.matmul(np.matmul(x.T,A),x)-np.matmul(b.T,x)\n",
    "def grad_f(x):\n",
    "    return np.matmul(A,x)-b.T"
   ]
  },
  {
   "cell_type": "code",
   "execution_count": 6,
   "metadata": {},
   "outputs": [],
   "source": [
    "import GD"
   ]
  },
  {
   "cell_type": "code",
   "execution_count": 7,
   "metadata": {
    "scrolled": true
   },
   "outputs": [
    {
     "name": "stdout",
     "output_type": "stream",
     "text": [
      "amount of iterations is 999\n"
     ]
    }
   ],
   "source": [
    "SGD_SIM=GD.GradientDescent(f,grad_f,L,np.zeros(DIMENSIONS),new_point_formula='sim_SGD',stopping_criteria='delta_grad')\n",
    "SGD_SIM_RESULTS=SGD_SIM.compute()"
   ]
  },
  {
   "cell_type": "code",
   "execution_count": 8,
   "metadata": {},
   "outputs": [
    {
     "name": "stdout",
     "output_type": "stream",
     "text": [
      "amount of iterations is 999\n"
     ]
    }
   ],
   "source": [
    "normal_GD=GD.GradientDescent(f,grad_f,L,np.zeros(DIMENSIONS),stopping_criteria='delta_grad')\n",
    "normal_GD_RESULTS=normal_GD.compute()"
   ]
  },
  {
   "cell_type": "code",
   "execution_count": 9,
   "metadata": {},
   "outputs": [
    {
     "data": {
      "text/plain": [
       "[<matplotlib.lines.Line2D at 0x7fd3ce2b65c0>]"
      ]
     },
     "execution_count": 9,
     "metadata": {},
     "output_type": "execute_result"
    }
   ],
   "source": [
    "import matplotlib.pyplot as plt\n",
    "plt.plot(range(len(SGD_SIM_RESULTS[2])),SGD_SIM_RESULTS[2])\n",
    "plt.plot(range(len(normal_GD_RESULTS[2])),normal_GD_RESULTS[2])"
   ]
  },
  {
   "cell_type": "markdown",
   "metadata": {},
   "source": [
    "__(б)__ На семинаре обсуждались способы борьбы со \"стохастичностью\" сходимости градиентного спуска. В частности, мы затронули использование уменьшающегося шага (смотри, например, Теорему 5 из [работы](https://arxiv.org/pdf/1907.04232.pdf)), а также использование батчирования (в нашем случае это просто замена: $\\xi^k \\to \\frac{1}{b} \\sum\\limits_{i=1}^b \\xi^k_i$, где $\\xi^k_i \\in \\mathcal{N}(0, 100)$ и независимы). Реализуйте эти модификации (для батчирования возьмите $b = 10 , 100$). Добавьте полученные результаты на график сходимости из пункта (а). Постройте также график сходимости, где по оси $x$ будет не количество итераций, а количество генераций $\\xi^k_i$ (количество вызовов стохастического градиента)."
   ]
  },
  {
   "cell_type": "code",
   "execution_count": 10,
   "metadata": {
    "scrolled": false
   },
   "outputs": [
    {
     "name": "stdout",
     "output_type": "stream",
     "text": [
      "amount of iterations is 999\n"
     ]
    }
   ],
   "source": [
    "SGD_SIM_DECLINING_STEP=GD.GradientDescent(f,grad_f,L,np.zeros(DIMENSIONS),new_point_formula='sim_SGD',step_choose='declining_step',stopping_criteria='delta_grad')\n",
    "SGD_SIM_DECLINING_STEP_RESULTS=SGD_SIM_DECLINING_STEP.compute()"
   ]
  },
  {
   "cell_type": "code",
   "execution_count": 11,
   "metadata": {
    "scrolled": true
   },
   "outputs": [
    {
     "name": "stdout",
     "output_type": "stream",
     "text": [
      "amount of iterations is 999\n"
     ]
    }
   ],
   "source": [
    "batch=10\n",
    "SGD_SIM_BATCH_10=GD.GradientDescent(f,grad_f,L,np.zeros(DIMENSIONS),new_point_formula='sim_SGD_batch',additional_data=batch,stopping_criteria='delta_grad')\n",
    "SGD_SIM_BATCH_10_RESULTS=SGD_SIM_BATCH_10.compute()"
   ]
  },
  {
   "cell_type": "code",
   "execution_count": 12,
   "metadata": {},
   "outputs": [],
   "source": [
    "#batch=100\n",
    "#SGD_SIM_BATCH_100=GD.GradientDescent(f,grad_f,L,np.zeros(DIMENSIONS),new_point_formula='sim_SGD_batch',additional_data=batch,stopping_criteria='delta_grad')\n",
    "#SGD_SIM_BATCH_100_RESULTS=SGD_SIM_BATCH_100.compute()"
   ]
  },
  {
   "cell_type": "code",
   "execution_count": 13,
   "metadata": {
    "scrolled": false
   },
   "outputs": [
    {
     "data": {
      "text/plain": [
       "<function matplotlib.pyplot.show(*args, **kw)>"
      ]
     },
     "execution_count": 13,
     "metadata": {},
     "output_type": "execute_result"
    },
    {
     "data": {
      "image/png": "[encoded data removed]",
      "text/plain": [
       "<matplotlib.figure.Figure at 0x7fd3cb3ab860>"
      ]
     },
     "metadata": {
      "needs_background": "light"
     },
     "output_type": "display_data"
    }
   ],
   "source": [
    "import matplotlib.pyplot as plt\n",
    "plt.plot(range(len(SGD_SIM_RESULTS[2])),SGD_SIM_RESULTS[2],label='SGD_SIM')\n",
    "plt.plot(range(len(normal_GD_RESULTS[2])),normal_GD_RESULTS[2],label='normal_GD')\n",
    "plt.plot(range(len(SGD_SIM_DECLINING_STEP_RESULTS[2])),SGD_SIM_DECLINING_STEP_RESULTS[2],label='SGD_SIM_decl_step')\n",
    "plt.plot(range(len(SGD_SIM_BATCH_10_RESULTS[2])),SGD_SIM_BATCH_10_RESULTS[2],label='SGD_SIM_batch=10')\n",
    "#plt.plot(range(len(SGD_SIM_BATCH_100_RESULTS[2])),SGD_SIM_BATCH_100_RESULTS[2],label='SGD_SIM_batch=100')\n",
    "plt.legend()\n",
    "plt.show"
   ]
  },
  {
   "cell_type": "markdown",
   "metadata": {},
   "source": [
    "Симулирования различных SGD показывает что с определенного момента решение начинает осциллировать в окрестности правильного ответа. Различными методами - изменениями батча, добавлением уменьшающегося шага и прочими средставми можно непосредственно уменьшать характерный размер осцилляции."
   ]
  },
  {
   "cell_type": "markdown",
   "metadata": {},
   "source": [
    "# Задача 2\n",
    "\n",
    "Рассмотрим задачу логистической регрессии на датасете mushrooms с $\\ell_2$-регуляризацией (коэффициент регуляризации равен $\\frac{L}{1000}$). Как мы знаем, эта задача имеет вид конечной суммы:\n",
    "\\begin{equation}\n",
    "\\min_{w \\in \\mathbb{R}^d} f(w) := \\frac{1}{n} \\sum\\limits_{j=1}^n f_j(w) := \\frac{1}{n} \\sum\\limits_{j=1}^n \\left[\\frac{1}{b} \\sum\\limits_{i=1}^b f_{ji}(w)\\right] := \\frac{1}{n} \\sum\\limits_{j=1}^n \\left[\\frac{1}{b} \\sum\\limits_{i=1}^b l (g(w, x_i), y_i)\\right],\n",
    "\\end{equation}\n",
    "где $nb = N$ - полный размер выборки. Решите данную задачу с помощью SGD, SAGA (секция А.5 из [работы](https://arxiv.org/pdf/1905.11261.pdf)), SVRG (секция А.9 из [работы](https://arxiv.org/pdf/1905.11261.pdf)) и SARAH ([работа](https://arxiv.org/pdf/1703.00102.pdf)). \n",
    "\n",
    "## __(а)__ Оцените $\\mu$ и $L$ для данной задачи. Обратите внимание, что теория для SAGA, SVRG, SARAH предполагает, что $L$ - это константа Липшица градиентов $\\nabla f_j$. "
   ]
  },
  {
   "cell_type": "markdown",
   "metadata": {},
   "source": [
    "### $$f=\\frac{1}{n}\\sum \\ln(1+e^{-w^Tx_iy_i})+\\frac{L}{1000} x^Tx$$"
   ]
  },
  {
   "cell_type": "markdown",
   "metadata": {},
   "source": [
    "### $$\\nabla f=-\\frac{1}{n}\\sum\\sigma(-y_iw^Tx_i)x_iy_i+\\frac{L}{500}x$$"
   ]
  },
  {
   "cell_type": "markdown",
   "metadata": {},
   "source": [
    "Повторяя выкладки из третьего дз получим, что константа $L$ оценится"
   ]
  },
  {
   "cell_type": "markdown",
   "metadata": {},
   "source": [
    "$$L \\leq \\frac{1}{4n}\\sum\\limits_{i=1}^nx_ix_i^T$$"
   ]
  },
  {
   "cell_type": "markdown",
   "metadata": {},
   "source": [
    "Теперь, учитывая бачи, можно получить что"
   ]
  },
  {
   "cell_type": "markdown",
   "metadata": {},
   "source": [
    "$$L \\leq \\frac{1}{4b}\\sum\\limits_{i=1}^nx_ix_i^T$$"
   ]
  },
  {
   "cell_type": "markdown",
   "metadata": {},
   "source": [
    "Из третьей домашки известно, что минимизируемая функция явлется выпуклой. Добавляя регуляризацию мы гарантируем сильную выпуклость, коэффициент сильной выпуклости определяется константой регуляризации."
   ]
  },
  {
   "cell_type": "markdown",
   "metadata": {},
   "source": [
    "## __(б)__ Реализуйте SGD, SAGA, SVRG, SARAH для задачи логистической регресии из $n$ слагаемых, где каждое слагаемое так же имеет виды суммы размеры $b$. Каким надо взять $b$? Почему? Что об этом говорит теория? Как будете выбирать шаг и другие параметры методов?"
   ]
  },
  {
   "cell_type": "markdown",
   "metadata": {},
   "source": [
    "Теория говорит что при большом количестве бачей стохастика маленькая, но метод медленно сходится. Когда бачей мало стохастика становится слишком большой и сходимости тоже нет"
   ]
  },
  {
   "cell_type": "code",
   "execution_count": 1,
   "metadata": {},
   "outputs": [],
   "source": [
    "from sklearn.datasets import load_svmlight_file\n",
    "import numpy as np\n",
    "dataset = \"mushrooms.txt\" \n",
    "data = load_svmlight_file(dataset)\n",
    "X, y = data[0].toarray(), data[1]\n",
    "n, d = X.shape\n",
    "y=y-1.5\n",
    "y=2*y\n",
    "from sklearn.model_selection import train_test_split\n",
    "X_train, X_test, y_train, y_test = train_test_split(X,y, train_size=0.2,test_size=0.8, random_state=41)"
   ]
  },
  {
   "cell_type": "code",
   "execution_count": 2,
   "metadata": {},
   "outputs": [],
   "source": [
    "n=len(X_train)"
   ]
  },
  {
   "cell_type": "code",
   "execution_count": 3,
   "metadata": {
    "scrolled": true
   },
   "outputs": [
    {
     "data": {
      "text/plain": [
       "27"
      ]
     },
     "execution_count": 3,
     "metadata": {},
     "output_type": "execute_result"
    }
   ],
   "source": [
    "batches_size=60\n",
    "from math import floor,ceil\n",
    "batches_amount=floor(len(X_train)/batches_size)\n",
    "batches_amount"
   ]
  },
  {
   "cell_type": "code",
   "execution_count": 4,
   "metadata": {},
   "outputs": [],
   "source": [
    "def sigma(x):\n",
    "    return 1/(1+np.exp(-x))\n",
    "\n",
    "def gradient(X,y,w):\n",
    "    summ=0\n",
    "    for i in range(np.shape(X)[0]):\n",
    "        summ+=sigma(-y[i]*np.matmul(w.T,X[i]))*X[i]*y[i]\n",
    "    return -summ/n+w*L/500"
   ]
  },
  {
   "cell_type": "code",
   "execution_count": 5,
   "metadata": {
    "scrolled": true
   },
   "outputs": [
    {
     "data": {
      "text/plain": [
       "1620"
      ]
     },
     "execution_count": 5,
     "metadata": {},
     "output_type": "execute_result"
    }
   ],
   "source": [
    "X_train=X_train[:-len(X_train)+batches_size*batches_amount]\n",
    "y_train=y_train[:-len(y_train)+batches_size*batches_amount]\n",
    "len(X_train)\n",
    "len(y_train)"
   ]
  },
  {
   "cell_type": "code",
   "execution_count": 6,
   "metadata": {},
   "outputs": [],
   "source": [
    "def get_L(X):\n",
    "    summ=0\n",
    "    for row in X:\n",
    "        summ+=np.dot(row.T,row)\n",
    "    return summ/(4*n)"
   ]
  },
  {
   "cell_type": "code",
   "execution_count": 7,
   "metadata": {},
   "outputs": [],
   "source": [
    "L=get_L(X_train)"
   ]
  },
  {
   "cell_type": "code",
   "execution_count": 8,
   "metadata": {},
   "outputs": [],
   "source": [
    "batches=[]\n",
    "batches_y=[]\n",
    "for j in range(batches_amount-1):\n",
    "    batches.append(  X_train[batches_size*j:batches_size*(j+1)])\n",
    "    batches_y.append(y_train[batches_size*j:batches_size*(j+1)])"
   ]
  },
  {
   "cell_type": "markdown",
   "metadata": {},
   "source": [
    "### 1.SGD"
   ]
  },
  {
   "cell_type": "markdown",
   "metadata": {},
   "source": [
    "Дополнительно, если проделать заново выкладки из третьей дз, то можно улучшить оценку на L - новая оценка это L делить на размер Бача,т.е. "
   ]
  },
  {
   "cell_type": "code",
   "execution_count": 22,
   "metadata": {},
   "outputs": [],
   "source": [
    "ITERATIONS=500\n",
    "import time"
   ]
  },
  {
   "cell_type": "code",
   "execution_count": 23,
   "metadata": {},
   "outputs": [],
   "source": [
    "import scipy.stats as st"
   ]
  },
  {
   "cell_type": "code",
   "execution_count": 24,
   "metadata": {},
   "outputs": [],
   "source": [
    "def SGD(gradient,batches,batches_y,step,max_iter=100):\n",
    "    times=[]\n",
    "    numbers=[]#grad(wk)\n",
    "    x=np.zeros(len(X_train[0]))\n",
    "    n=len(batches)\n",
    "    iteration_start = time.time()\n",
    "    for i in range(max_iter):\n",
    "        numbers.append(np.linalg.norm(gradient(X_train,y_train,x)))\n",
    "        uni=st.randint(0,n)\n",
    "        j=uni.rvs()\n",
    "        x=x-step*gradient(batches[j],batches_y[j],x)\n",
    "        iteration_end = time.time()\n",
    "        times.append(iteration_end-iteration_start)\n",
    "    return x,numbers,times"
   ]
  },
  {
   "cell_type": "code",
   "execution_count": 25,
   "metadata": {},
   "outputs": [],
   "source": [
    "SGD_RESULTS=SGD(gradient,batches,batches_y,1/L,ITERATIONS)"
   ]
  },
  {
   "cell_type": "markdown",
   "metadata": {},
   "source": [
    "### 2.SAGA"
   ]
  },
  {
   "cell_type": "markdown",
   "metadata": {},
   "source": [
    "Для $SAGA$ и следующий трех методов возьмем $L$ как наибольший среди всех бачей.\n"
   ]
  },
  {
   "cell_type": "code",
   "execution_count": 26,
   "metadata": {},
   "outputs": [],
   "source": [
    "def get_L(X):\n",
    "    summ=0\n",
    "    for row in X:\n",
    "        summ+=np.dot(row.T,row)\n",
    "    return summ/(4*batches_size)"
   ]
  },
  {
   "cell_type": "code",
   "execution_count": 27,
   "metadata": {},
   "outputs": [
    {
     "name": "stdout",
     "output_type": "stream",
     "text": [
      "5.25\n"
     ]
    }
   ],
   "source": [
    "L=0\n",
    "for batch in batches:\n",
    "    norm=get_L(batch)\n",
    "    if(norm>L):\n",
    "        L=norm\n",
    "print(L)"
   ]
  },
  {
   "cell_type": "markdown",
   "metadata": {},
   "source": [
    "### Продолжаем методы :"
   ]
  },
  {
   "cell_type": "code",
   "execution_count": 28,
   "metadata": {},
   "outputs": [],
   "source": [
    "def SAGA(gradient,batches,batches_y,step,max_iter=100):\n",
    "    gradients=[]\n",
    "    numbers=[]\n",
    "    times=[]\n",
    "    x=np.zeros(len(X_train[0]))\n",
    "    n=len(batches)\n",
    "\n",
    "    iteration_start = time.time()\n",
    "\n",
    "    for i in range(n):\n",
    "        gradients.append(gradient(batches[i],batches_y[i],x)) #Заполняем градиентами в начальной точке\n",
    "    for i in range(max_iter):\n",
    "        numbers.append(np.linalg.norm(gradient(X_train,y_train,x)))\n",
    "        summ=0\n",
    "        for vec in gradients:\n",
    "            summ+=vec\n",
    "        uni=st.randint(0,n)\n",
    "        j=uni.rvs()\n",
    "        old_gradient=gradients[j]\n",
    "        gradients[j]=gradient(batches[j],batches_y[j],x)\n",
    "        gk=gradients[j]-old_gradient+summ/n\n",
    "        x=x-step*gk\n",
    "        iteration_end = time.time()\n",
    "        times.append(iteration_end-iteration_start)\n",
    "    return x,numbers,times\n",
    "        \n",
    "    "
   ]
  },
  {
   "cell_type": "code",
   "execution_count": 29,
   "metadata": {},
   "outputs": [],
   "source": [
    "SAGA_RESULTS=SAGA(gradient,batches,batches_y,1/L,ITERATIONS)"
   ]
  },
  {
   "cell_type": "markdown",
   "metadata": {},
   "source": [
    "### 3.SVRG"
   ]
  },
  {
   "cell_type": "markdown",
   "metadata": {},
   "source": [
    "__Для SVRG и SARAH количество итераций равно количеству внутренних циклов, в одной из статей писали что обычно берут так__"
   ]
  },
  {
   "cell_type": "code",
   "execution_count": 30,
   "metadata": {},
   "outputs": [],
   "source": [
    "def SVRG(gradient,batches,batches_y,step,outer_iter=10):\n",
    "    grad_phi=0\n",
    "    numbers=[]\n",
    "    times=[]\n",
    "    x=np.zeros(len(X_train[0]))\n",
    "    xes=[x]\n",
    "    phi=x\n",
    "    n=len(batches)\n",
    "    iteration_start = time.time()    \n",
    "    for s in range(outer_iter):\n",
    "        for k in range(n):\n",
    "            numbers.append(np.linalg.norm(gradient(X_train,y_train,x)))\n",
    "            uni=st.randint(0,n)\n",
    "            j=uni.rvs()\n",
    "            gk=gradient(batches[j],batches_y[j],x)-gradient(batches[j],batches[j],phi)+grad_phi\n",
    "            x=x-step*gk\n",
    "            xes.append(x)\n",
    "            iteration_end = time.time()\n",
    "            times.append(iteration_end-iteration_start)\n",
    "        summ=0\n",
    "        for vec in xes:\n",
    "            summ+=vec\n",
    "        phi=summ/len(xes)\n",
    "        grad_phi=gradient(X_train,y_train,phi)\n",
    "    return x,numbers,times"
   ]
  },
  {
   "cell_type": "code",
   "execution_count": 31,
   "metadata": {
    "scrolled": false
   },
   "outputs": [],
   "source": [
    "SVRG_RESULTS=SVRG(gradient,batches,batches_y,1/L,outer_iter=ceil(ITERATIONS/len(batches)))"
   ]
  },
  {
   "cell_type": "markdown",
   "metadata": {},
   "source": [
    "### 4.SARAH"
   ]
  },
  {
   "cell_type": "code",
   "execution_count": 32,
   "metadata": {},
   "outputs": [],
   "source": [
    "def SARAH(gradient,batches,batches_y,step,outer_iter=10):\n",
    "    x=np.zeros(len(X_train[0]))\n",
    "    numbers=[]\n",
    "    times=[]\n",
    "    xes=[]\n",
    "    n=len(batches)\n",
    "    iteration_start = time.time()    \n",
    "    for s in range(outer_iter):\n",
    "        xes=[x]\n",
    "        v_prev=0\n",
    "        for i in range(0,n):\n",
    "            v_prev+=gradient(batches[i],batches_y[i],x)\n",
    "        v_prev=v_prev/n\n",
    "        x_old=x\n",
    "        x=x-step*v_prev\n",
    "        xes.append(x)\n",
    "        for k in range(n):\n",
    "            numbers.append(np.linalg.norm(gradient(X_train,y_train,x)))\n",
    "            uni=st.randint(0,n)\n",
    "            j=uni.rvs()\n",
    "            vt=gradient(batches[j],batches_y[j],x)-gradient(batches[j],batches[j],x_old)+v_prev\n",
    "            v_prev=vt\n",
    "            x_old=x\n",
    "            x=x-step*vt\n",
    "            xes.append(x)\n",
    "            iteration_end = time.time()\n",
    "            times.append(iteration_end-iteration_start)\n",
    "        uni=st.randint(0,n)\n",
    "        j=uni.rvs()\n",
    "        x=xes[j]\n",
    "    return x,numbers,times"
   ]
  },
  {
   "cell_type": "code",
   "execution_count": 33,
   "metadata": {},
   "outputs": [],
   "source": [
    "SARAH_RESULTS=SARAH(gradient,batches,batches_y,1/L,outer_iter=ceil(ITERATIONS/len(batches)))"
   ]
  },
  {
   "cell_type": "markdown",
   "metadata": {},
   "source": [
    "## __(в)__ Постройте графики сравнения всех методов: по оси $x$ используйте время или количество подсчетов $\\nabla f_{ji}$, по оси $y$ - $\\|\\nabla f(w^k)\\|$ или точность на тесте. Таким образом, всего 4 графика. Сделайте сравнение и вывод."
   ]
  },
  {
   "cell_type": "code",
   "execution_count": 34,
   "metadata": {
    "scrolled": true
   },
   "outputs": [
    {
     "data": {
      "text/plain": [
       "<function matplotlib.pyplot.show(*args, **kw)>"
      ]
     },
     "execution_count": 34,
     "metadata": {},
     "output_type": "execute_result"
    },
    {
     "data": {
      "image/png": "[encoded data removed]",
      "text/plain": [
       "<matplotlib.figure.Figure at 0x7fd3c78063c8>"
      ]
     },
     "metadata": {
      "needs_background": "light"
     },
     "output_type": "display_data"
    }
   ],
   "source": [
    "import matplotlib.pyplot as plt\n",
    "plt.plot(SGD_RESULTS[2],SGD_RESULTS[1],label='SGD')\n",
    "plt.plot(SAGA_RESULTS[2],SAGA_RESULTS[1],label='SAGA')\n",
    "plt.plot(SVRG_RESULTS[2],SVRG_RESULTS[1],label='SVRG')\n",
    "plt.plot(SARAH_RESULTS[2],SARAH_RESULTS[1],label='SARAH')\n",
    "plt.xlabel('time,sec')\n",
    "plt.ylabel('||grad(x)||')\n",
    "plt.legend()\n",
    "plt.show"
   ]
  },
  {
   "cell_type": "markdown",
   "metadata": {},
   "source": [
    "При перезапуске программы с другими размерами бача можно увидеть что SVRG начинает сходиться/расходиться, SARAH начинает сходиться при больших размерах бача(порядка нескольких сотен) а SGD/SAGA достаточно монотонно идут к минимуму."
   ]
  },
  {
   "cell_type": "markdown",
   "metadata": {},
   "source": [
    "__Бонусные пункты__\n",
    "\n",
    "__(г)__ Методы SGD, SAGA, SVRG, SARAH, которые мы рассматривали, предполагают случайный выбор индекса на каждой итерации. Но между тем, на практике обычно делают по-другому и просто последовательно меняют $i_k$ от $1$ до $n$ (а потом заново). В [работе](https://arxiv.org/abs/2006.05988) изучаются такие подходы. Реализуйте Random Reshuffling и Shuffle Once для SGD и SARAH. Сравните новые алгоритмы со старыми версиями SGD и SARAH из пунктов (б) и (в)."
   ]
  },
  {
   "cell_type": "code",
   "execution_count": 35,
   "metadata": {},
   "outputs": [],
   "source": [
    "#ответ"
   ]
  },
  {
   "cell_type": "markdown",
   "metadata": {},
   "source": [
    "__(д)__ Методы SVRG и SARAH имеют loopless версии: L-SVRG (секция А.10 из [работы](https://arxiv.org/pdf/1905.11261.pdf) и PAGE ([работа](https://proceedings.mlr.press/v139/li21a.html)), соотвественно. Реализуйте их. Как будете выбирать вероятности в этих алгоритмах? Сравните новые алгоритмы со старыми версиями SVRG и SARAH из пунктов (б) и (в)."
   ]
  },
  {
   "cell_type": "code",
   "execution_count": 36,
   "metadata": {},
   "outputs": [],
   "source": [
    "#ответ"
   ]
  }
 ],
 "metadata": {
  "kernelspec": {
   "display_name": "Python 3",
   "language": "python",
   "name": "python3"
  },
  "language_info": {
   "codemirror_mode": {
    "name": "ipython",
    "version": 3
   },
   "file_extension": ".py",
   "mimetype": "text/x-python",
   "name": "python",
   "nbconvert_exporter": "python",
   "pygments_lexer": "ipython3",
   "version": "3.6.9"
  }
 },
 "nbformat": 4,
 "nbformat_minor": 5
}
