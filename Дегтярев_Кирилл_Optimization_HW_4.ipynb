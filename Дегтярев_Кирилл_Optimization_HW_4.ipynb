{
 "cells": [
  {
   "cell_type": "markdown",
   "metadata": {
    "id": "4wyj0xRSnYlT"
   },
   "source": [
    "# Домашнее задание 4\n",
    "\n",
    "Это домашнее задание по материалам второго семинаров. Дедлайн по отправке - 23:55 3 марта. \n",
    "\n",
    "Домашнее задание выполняется в этом же Jupyter Notebook'e и присылается мне на почту: __beznosikov.an@phystech.edu__.\n",
    "\n",
    "Решение каждой задачи необходимо поместить после её условия.\n",
    "\n",
    "Файл должен называться: Фамилия_Имя_Optimization_HW_4\n",
    "\n",
    "При полном запуске Вашего решения (Kernel -> Restart & Run All) все ячейки должны выполняться без ошибок. "
   ]
  },
  {
   "cell_type": "markdown",
   "metadata": {
    "id": "hf0K2Ql6nYle"
   },
   "source": [
    "# Задача 1\n",
    "\n",
    "Рассмотрим задачу минимизации:\n",
    "\\begin{equation}\n",
    "\\min_{x \\in \\triangle_d} f(x) = \\frac{1}{2}x^T A x,\n",
    "\\end{equation}\n",
    "где в качестве матрицы $A$ - случайная матрица (уже умеем генерировать) с $L =1000$, $\\mu = 1$, а $\\triangle_d$ - вероятностный симплекс:\n",
    "$$\n",
    "\\triangle_d = \\{x ~|~ x_i \\geq 0, \\sum_{i=1}^d x_i = 1\\}.\n",
    "$$\n",
    "\n",
    "## __(а)__ Для такой задачи напишите итерацию зеркального спуска с дивергенцией Брегмана, порожденной энтропийной функцией. Найдите выражение для итерации метода в явном виде (без подсчетов $\\arg\\min$)."
   ]
  },
  {
   "cell_type": "markdown",
   "metadata": {
    "id": "H9-UFrR5nYlf"
   },
   "source": [
    "Шаг алгоритма запишется как :"
   ]
  },
  {
   "cell_type": "markdown",
   "metadata": {
    "id": "O4M_wImanYlg"
   },
   "source": [
    "$x^{k+1}=\\text{argmin}_{x\\in C} \\left(\\gamma_k f(x^k)+ \\gamma_k \\left< \\nabla f(x^k),x-x_k \\right> + \\Delta_\\psi (x,x_k)\\right)$"
   ]
  },
  {
   "cell_type": "markdown",
   "metadata": {
    "id": "ytmLGNc8nYlh"
   },
   "source": [
    "Будем явно искать аргминимум :"
   ]
  },
  {
   "cell_type": "markdown",
   "metadata": {
    "id": "N91EtJndnYlh"
   },
   "source": [
    "$\\psi(x)=\\sum_i x_i \\log x_i$"
   ]
  },
  {
   "cell_type": "markdown",
   "metadata": {
    "id": "kgthxxT4nYli"
   },
   "source": [
    "$\\Delta_\\psi(x,y)=\\sum_ix_i\\log\\frac{x_i}{y_i}$"
   ]
  },
  {
   "cell_type": "markdown",
   "metadata": {
    "id": "Q5QkVCsUnYlj"
   },
   "source": [
    "$h \\left< \\nabla f(x^k),x-x^k \\right>+ \\sum\\limits^d x_i \\ln \\frac{x_i}{x_i^k} \\rightarrow \\min\\limits_{x\\in \\Delta}$"
   ]
  },
  {
   "cell_type": "markdown",
   "metadata": {
    "id": "RonPijo4nYlk"
   },
   "source": [
    "С лекции : составляем ККТ, загоняем в условие $\\sum\\limits^dx_i=1$"
   ]
  },
  {
   "cell_type": "markdown",
   "metadata": {
    "id": "Fxizsjm2nYll"
   },
   "source": [
    "$\\sum\\limits^d (h \\frac{\\partial f}{\\partial x_i}(x^k)x_i+x_i \\ln \\frac{x_i}{x_i^k}+\\lambda x_i)\\rightarrow \\min\\limits_{x\\geq 0}$"
   ]
  },
  {
   "cell_type": "markdown",
   "metadata": {
    "id": "kma1Ou7UnYll"
   },
   "source": [
    "$h \\frac{\\partial f}{\\partial x_i}(x^k) + \\ln \\frac{x_i}{x_i^k}+\\frac{1}{x_i}+\\lambda=0$"
   ]
  },
  {
   "cell_type": "markdown",
   "metadata": {
    "id": "0upuir9HnYlm"
   },
   "source": [
    "$\\sum\\limits^d x_i=1$"
   ]
  },
  {
   "cell_type": "markdown",
   "metadata": {
    "id": "ybbywJnI9HNy"
   },
   "source": []
  },
  {
   "cell_type": "markdown",
   "metadata": {
    "id": "tprji2dZ84b2"
   },
   "source": [
    "$\\Lambda = \\frac{1}{x_i}+\\lambda$"
   ]
  },
  {
   "cell_type": "markdown",
   "metadata": {
    "id": "PaWa2Ntd88Kf"
   },
   "source": [
    "$x_i=\\Lambda'x_i^k\\exp(-h \\frac{\\partial f}{\\partial x}(x^k))$"
   ]
  },
  {
   "cell_type": "markdown",
   "metadata": {
    "id": "mMPUsFoH8fX8"
   },
   "source": [
    "Находя лямбду, подставляем ее и получаем следующее выражение"
   ]
  },
  {
   "cell_type": "markdown",
   "metadata": {
    "id": "TiGtVWs0nYlo"
   },
   "source": [
    "### $$x_i=\\frac{x_i^k\\exp(-h \\frac{\\partial f}{\\partial x_i}(x^k))}{\\sum x_i^k\\exp(-h\\frac{\\partial f}{\\partial x_i}(x^k)}$$"
   ]
  },
  {
   "cell_type": "markdown",
   "metadata": {
    "id": "t0ZE8oPfnYlo"
   },
   "source": [
    "## __(б)__ Реализуйте метод зеркального спуска из пункта (а). Постройте для него график сходимости по времени и по итерациям. В качестве критерия сходимости используйте:\n",
    "$$\n",
    "\\text{gap}(x^k) = \\max_{y \\in \\triangle_d} \\langle \\nabla f(x^k), x^k - y \\rangle,\n",
    "$$\n",
    "или усредненную версию $\\frac{1}{k} \\sum_{i=1}^k \\text{gap}(x^i)$. Найдите выражение в явном виде для подсчета $\\text{gap}(x^k)$."
   ]
  },
  {
   "cell_type": "markdown",
   "metadata": {
    "id": "qCpXwIVVnYlp"
   },
   "source": [
    "$\\min_{y\\in \\Delta_d} \\left< \\nabla f(x^k),y \\right>$"
   ]
  },
  {
   "cell_type": "markdown",
   "metadata": {
    "id": "DkhfJotPnYlq"
   },
   "source": [
    "$\\min_{y\\in \\Delta_d}\\left< Ax, y\\right>$"
   ]
  },
  {
   "cell_type": "markdown",
   "metadata": {
    "id": "3oAuD5C9nYlq"
   },
   "source": [
    "Это задача минимизации линейной функции на симплексе, решается симплекс-методом"
   ]
  },
  {
   "cell_type": "markdown",
   "metadata": {},
   "source": [
    "__НО ЕСТЬ СПОСОБ ЛУЧШЕ - РЕШИТЬ РУКАМИ__"
   ]
  },
  {
   "cell_type": "markdown",
   "metadata": {},
   "source": [
    "максимизирующий вектор такой что $x_\\bar{i}=1$, где $\\bar{i}$ - индекс наименьшего элемента $c_\\bar{i}$ минимизируемого функцинала $c^Tx$. Все остальные координаты ноль"
   ]
  },
  {
   "cell_type": "code",
   "execution_count": 1,
   "metadata": {
    "id": "8Fh6ta0FnYlr"
   },
   "outputs": [],
   "source": [
    "import numpy as np\n",
    "from scipy.stats import ortho_group\n",
    "def get_matrix_2(d,mu,L):\n",
    "    vec=np.random.uniform(low=mu, high=L, size=d-2)\n",
    "    vec=np.append(vec,mu)\n",
    "    vec=np.append(vec,L)\n",
    "    print(\"eigenvals are{}\".format(vec))\n",
    "    O=ortho_group.rvs(dim=d)\n",
    "    D=np.diag(vec)\n",
    "    temp=np.matmul(np.transpose(O),D)\n",
    "    result = np.matmul(temp,O)\n",
    "    return result"
   ]
  },
  {
   "cell_type": "code",
   "execution_count": 2,
   "metadata": {
    "id": "KFQHiZzQnYlt"
   },
   "outputs": [],
   "source": [
    "DIMENSIONS=100"
   ]
  },
  {
   "cell_type": "code",
   "execution_count": 3,
   "metadata": {
    "colab": {
     "base_uri": "https://localhost:8080/"
    },
    "id": "04-rwhkVnYl3",
    "outputId": "43ce30a2-6bfa-43bb-9de8-a7bb421fad51",
    "scrolled": true
   },
   "outputs": [
    {
     "name": "stdout",
     "output_type": "stream",
     "text": [
      "eigenvals are[ 689.84724867  617.14163826  435.98432773  542.19625302  913.15972797\n",
      "  657.04432741  237.90462014  484.05061328  323.60745469  580.67660034\n",
      "  391.80202833  787.40657202  196.71610138  870.49952633  635.6559873\n",
      "  282.87639667  964.4580433   123.5226243    25.38924467  920.19976912\n",
      "  755.99504713  941.47872117  346.18791885  670.1595986   305.75771942\n",
      "  311.67987866  374.29915063  445.32629593  608.39705959  419.51822363\n",
      "  516.2613255   152.76396559  837.33490558   47.07365538  667.07109009\n",
      "  631.51055804  965.45682275  103.97904613  338.98244864  292.11791302\n",
      "  325.68111129   20.44931262  149.72276618  188.7175613   106.95268924\n",
      "  923.56891842  849.99509689  747.38225836  506.82227615  532.41293391\n",
      "  915.72750414  484.91085561  217.85464407  209.20982651  435.10514475\n",
      "  873.32611847  703.24152638  674.81421027  769.75193161  328.77344644\n",
      "  326.40451348  215.82853725  411.56670664  571.50553866   62.90052591\n",
      "  153.18290378  972.10112208  782.55669182  134.05410513   31.02640141\n",
      "  321.90203763  343.97246369  668.83419981  787.36803432  195.53795985\n",
      "  376.97991665  547.32671545  738.19002245  103.39348234  168.42678939\n",
      "  185.12821674  771.41479687  713.88545589  757.86028783  770.52830188\n",
      "  954.25624588  599.1875332   115.67073601  410.68943461   48.88480281\n",
      "  894.24118988   81.52658143  704.53604306  617.03513698  215.0848854\n",
      "   40.91097205  946.09065609  271.47213543    1.         1000.        ]\n"
     ]
    }
   ],
   "source": [
    "A=get_matrix_2(DIMENSIONS,1,1000)"
   ]
  },
  {
   "cell_type": "code",
   "execution_count": 4,
   "metadata": {
    "id": "OU4A4xfNnYl6"
   },
   "outputs": [],
   "source": [
    "def f(x):\n",
    "    return 1/2*np.matmul(np.matmul(x.T,A),x)\n",
    "def gradient(x):\n",
    "    return np.matmul(A,x);"
   ]
  },
  {
   "cell_type": "markdown",
   "metadata": {
    "id": "-jJ15q7fnYl7"
   },
   "source": [
    "Ставим стартовую точку на симплексе"
   ]
  },
  {
   "cell_type": "code",
   "execution_count": 5,
   "metadata": {
    "id": "bAVd6qNGnYl8"
   },
   "outputs": [],
   "source": [
    "zeros=np.ones((DIMENSIONS))\n",
    "zeros*=1/DIMENSIONS"
   ]
  },
  {
   "cell_type": "code",
   "execution_count": 6,
   "metadata": {
    "id": "EmhdX6o6nYmB",
    "scrolled": true
   },
   "outputs": [
    {
     "name": "stdout",
     "output_type": "stream",
     "text": [
      "amount of iterations is 9999\n"
     ]
    }
   ],
   "source": [
    "import GD\n",
    "MIRROR=GD.GradientDescent(f,gradient,1000, zeros,new_point_formula='mirror',step_choose='constant_step',stopping_criteria='gap',max_iterations=10000)\n",
    "MIRROR_RESULTS=MIRROR.compute()"
   ]
  },
  {
   "cell_type": "markdown",
   "metadata": {},
   "source": [
    "### По времени :"
   ]
  },
  {
   "cell_type": "code",
   "execution_count": 7,
   "metadata": {
    "colab": {
     "base_uri": "https://localhost:8080/",
     "height": 280
    },
    "id": "p1GYwiPqnYmE",
    "outputId": "b0faeb64-964d-4c12-96dc-5a4f52d7d58b"
   },
   "outputs": [
    {
     "data": {
      "text/plain": [
       "<matplotlib.figure.Figure at 0x7f4c2429aac8>"
      ]
     },
     "metadata": {},
     "output_type": "display_data"
    }
   ],
   "source": [
    "import matplotlib.pyplot as plt\n",
    "\n",
    "fig, ax = plt.subplots()\n",
    "ax.plot(MIRROR_RESULTS[1],MIRROR_RESULTS[2])\n",
    "ax.set_ylabel(\"||gap||\")\n",
    "ax.set_xlabel(\"time,s\")\n",
    "#ax.set_yscale('log')\n",
    "plt.show()\n"
   ]
  },
  {
   "cell_type": "code",
   "execution_count": 8,
   "metadata": {},
   "outputs": [
    {
     "data": {
      "image/png": "[encoded data removed]",
      "text/plain": [
       "<matplotlib.figure.Figure at 0x7f4c21219198>"
      ]
     },
     "metadata": {
      "needs_background": "light"
     },
     "output_type": "display_data"
    }
   ],
   "source": [
    "fig, ax = plt.subplots()\n",
    "ax.plot(MIRROR_RESULTS[1],MIRROR_RESULTS[2])\n",
    "ax.set_ylabel(\"||gap||\")\n",
    "ax.set_xlabel(\"time,s\")\n",
    "#ax.set_yscale('log')\n",
    "plt.show()"
   ]
  },
  {
   "cell_type": "markdown",
   "metadata": {},
   "source": [
    "### По итерациям"
   ]
  },
  {
   "cell_type": "code",
   "execution_count": 9,
   "metadata": {},
   "outputs": [
    {
     "data": {
      "image/png": "[encoded data removed]",
      "text/plain": [
       "<matplotlib.figure.Figure at 0x7f4c211df048>"
      ]
     },
     "metadata": {
      "needs_background": "light"
     },
     "output_type": "display_data"
    }
   ],
   "source": [
    "import matplotlib.pyplot as plt\n",
    "\n",
    "fig, ax = plt.subplots()\n",
    "ax.plot(range(len(MIRROR_RESULTS[2])),MIRROR_RESULTS[2])\n",
    "ax.set_ylabel(\"||gap||\")\n",
    "ax.set_xlabel(\"iterations\");\n",
    "#ax.set_yscale('log')\n",
    "plt.show()"
   ]
  },
  {
   "cell_type": "markdown",
   "metadata": {
    "id": "9E14Fl7cnYmF"
   },
   "source": [
    "## __(в)__ Для этой же задачи напишите итерацию метода Франка-Вульфа. Реализуйте этот метод. Постройте для него график сходимости по времени и по итерациям. Добавьте эти графики к графикам для зеркального спуска. Сделайте вывод."
   ]
  },
  {
   "cell_type": "markdown",
   "metadata": {
    "id": "xEtsTl0ttzTc"
   },
   "source": [
    "$s^k=\\text{argmin}_{s \\in C} \\left< \\nabla f(x^k);s-x^k \\right>$"
   ]
  },
  {
   "cell_type": "markdown",
   "metadata": {
    "id": "Mtib4RMCuOMe"
   },
   "source": [
    "$s^k=\\text{argmin}_{s \\in C} \\left< Ax^k;s-x^k \\right>$"
   ]
  },
  {
   "cell_type": "markdown",
   "metadata": {
    "id": "GZANGeI-uWw5"
   },
   "source": [
    "Заметим, что это задача минимизации линейного функционала на вероятностном симплексе, решается руками через поиск минимального коэффициента у вектора задающего линейный функционал"
   ]
  },
  {
   "cell_type": "code",
   "execution_count": 10,
   "metadata": {
    "id": "91YcfieBnYmG"
   },
   "outputs": [
    {
     "name": "stdout",
     "output_type": "stream",
     "text": [
      "amount of iterations is 9999\n"
     ]
    }
   ],
   "source": [
    "import GD\n",
    "WOLF=GD.GradientDescent(f,gradient,1000, zeros,new_point_formula='wolf',step_choose='declining_step',stopping_criteria='gap',max_iterations=10000)\n",
    "WOLF_RESULTS=WOLF.compute()"
   ]
  },
  {
   "cell_type": "markdown",
   "metadata": {},
   "source": [
    "### По времени"
   ]
  },
  {
   "cell_type": "code",
   "execution_count": 11,
   "metadata": {
    "colab": {
     "base_uri": "https://localhost:8080/",
     "height": 295
    },
    "id": "TmF9EP1q43O0",
    "outputId": "1c4d0adf-6c01-4828-e49f-afdd35e2cda5",
    "scrolled": true
   },
   "outputs": [
    {
     "data": {
      "image/png": "[encoded data removed]",
      "text/plain": [
       "<matplotlib.figure.Figure at 0x7f4c21261748>"
      ]
     },
     "metadata": {
      "needs_background": "light"
     },
     "output_type": "display_data"
    }
   ],
   "source": [
    "plt.plot(MIRROR_RESULTS[1], MIRROR_RESULTS[2], color='red',linestyle='--', label='Mirror')\n",
    "plt.plot(WOLF_RESULTS[1], WOLF_RESULTS[2], color='blue',linestyle='-.', label='Frank-wolf')\n",
    " \n",
    "plt.xlabel('time,s')\n",
    "plt.ylabel('||gap||')\n",
    "plt.title('Frank-Wolf vs Mirror on 10000 iterations')\n",
    "plt.yscale('log')\n",
    "plt.legend()\n",
    "plt.show()\n"
   ]
  },
  {
   "cell_type": "markdown",
   "metadata": {},
   "source": [
    "### Итерации"
   ]
  },
  {
   "cell_type": "code",
   "execution_count": 12,
   "metadata": {},
   "outputs": [
    {
     "data": {
      "image/png": "[encoded data removed]",
      "text/plain": [
       "<matplotlib.figure.Figure at 0x7f4c20de5f60>"
      ]
     },
     "metadata": {
      "needs_background": "light"
     },
     "output_type": "display_data"
    }
   ],
   "source": [
    "plt.plot(range(len(MIRROR_RESULTS[2])), MIRROR_RESULTS[2], color='red',linestyle='--', label='Mirror')\n",
    "plt.plot(range(len(WOLF_RESULTS[2])), WOLF_RESULTS[2], color='blue',linestyle='-.', label='Frank-wolf')\n",
    " \n",
    "plt.xlabel('time,s')\n",
    "plt.ylabel('||gap||')\n",
    "plt.title('Frank-Wolf vs Mirror on 10000 iterations')\n",
    "plt.yscale('log')\n",
    "plt.legend()\n",
    "plt.show()\n"
   ]
  },
  {
   "cell_type": "markdown",
   "metadata": {
    "id": "gInwdLqb7YDx"
   },
   "source": [
    "Франк-Вульф быстро доходит до какого-то приближения и затем осциллирует в его окрестности. В свою очередь, зеркальный алгоритм сходится медленно, но зато продолжает спускаться к своему минимуму"
   ]
  }
 ],
 "metadata": {
  "colab": {
   "provenance": []
  },
  "kernelspec": {
   "display_name": "Python 3",
   "language": "python",
   "name": "python3"
  },
  "language_info": {
   "codemirror_mode": {
    "name": "ipython",
    "version": 3
   },
   "file_extension": ".py",
   "mimetype": "text/x-python",
   "name": "python",
   "nbconvert_exporter": "python",
   "pygments_lexer": "ipython3",
   "version": "3.6.9"
  }
 },
 "nbformat": 4,
 "nbformat_minor": 5
}
