{
 "cells": [
  {
   "cell_type": "markdown",
   "metadata": {},
   "source": [
    "# Домашнее задание 8\n",
    "\n",
    "Это домашнее задание по материалам второго семинаров. Дедлайн по отправке - 23:55 21 апреля. \n",
    "\n",
    "Домашнее задание выполняется в этом же Jupyter Notebook'e и присылается мне на почту: __beznosikov.an@phystech.edu__.\n",
    "\n",
    "Решение каждой задачи необходимо поместить после её условия.\n",
    "\n",
    "Файл должен называться: Фамилия_Имя_Optimization_HW_8\n",
    "\n",
    "При полном запуске Вашего решения (Kernel -> Restart & Run All) все ячейки должны выполняться без ошибок. "
   ]
  },
  {
   "cell_type": "code",
   "execution_count": 1,
   "metadata": {},
   "outputs": [],
   "source": [
    "import numpy as np\n",
    "import matplotlib.pyplot as plt\n",
    "import cvxpy as cp"
   ]
  },
  {
   "cell_type": "code",
   "execution_count": 2,
   "metadata": {},
   "outputs": [],
   "source": [
    "#Проекция на симплекс\n",
    "import numpy as np\n",
    "def true_simplex_proj(y : np.array):\n",
    "    #предварительная работа\n",
    "    D = len(y)\n",
    "    ySorted = np.flip(np.sort(y, kind='heapsort'))\n",
    "    sums = np.cumsum(ySorted)\n",
    "    someArray = [ySorted[j] + (1/(j+1))*(1 - sums[j]) for j in range(D)]\n",
    "\n",
    "    #поиск максимального индекса, при котором выражение положительно\n",
    "    r = float('-inf')\n",
    "    for i in range(D):\n",
    "        if someArray[i] > 0: r = i\n",
    "  \n",
    "    lam = (1-sums[r])/(r+1)\n",
    "\n",
    "    #делаем проекцию\n",
    "    x = np.copy([max(y[i] + lam, 0) for i in range(D)])\n",
    "    return x"
   ]
  },
  {
   "cell_type": "code",
   "execution_count": 3,
   "metadata": {},
   "outputs": [],
   "source": [
    "from scipy.stats import ortho_group\n",
    "from scipy.stats import uniform\n",
    "def get_matrix_2(d,mu,L,seed=5):\n",
    "    vec=np.array(uniform.rvs(loc=1.1*mu,scale=L*0.9,size=d-2,random_state=seed))\n",
    "    vec=np.append(vec,mu)\n",
    "    vec=np.append(vec,L)\n",
    "    O=ortho_group.rvs(dim=d,random_state=seed)\n",
    "    D=np.diag(vec)\n",
    "    temp=np.matmul(np.transpose(O),D)\n",
    "    result = np.matmul(temp,O)\n",
    "    return result"
   ]
  },
  {
   "cell_type": "markdown",
   "metadata": {},
   "source": [
    "## Задача 1\n",
    "\n",
    "Рассмотрим билинейную седловую задачу:\n",
    "\\begin{equation}\n",
    "\\min_{x \\in [-10; 10]^d} \\max_{y \\in [-10; 10]^d} f(x,y) = (x-b_x)^T A (y - b_y) + \\frac{\\lambda}{2}\\| x - b_x\\|^2 - \\frac{\\lambda}{2}\\| y - b_y\\|^2,\n",
    "\\end{equation}\n",
    "где в качестве матрицы $A$ - случайно сгенерированная матрица с $L =1000$, $\\mu = 0.01$, $d = 100$, $b_x$ и $b_y$ - случайные векторы c компонентами из отрезка $[-10; 10]$, $\\lambda = 1$.\n",
    "\n",
    "__(а)__ Какое решение у данной задачи? Является ли данная задача сильно выпуклой по $x$ и сильно вогнутой по $y$? Если да, то чему равна константа сильной выпуклости? Является ли оператор, соотвествующего это задаче вариационного неравенства, сильно монотонным? Липшицевым? Чему равны $L$ и $\\mu$ для данного оператора? "
   ]
  },
  {
   "cell_type": "markdown",
   "metadata": {},
   "source": [
    "### Решение"
   ]
  },
  {
   "cell_type": "markdown",
   "metadata": {},
   "source": [
    "на семинаре показали что это можно свести к вариационному неравенству"
   ]
  },
  {
   "cell_type": "markdown",
   "metadata": {},
   "source": [
    "$\\left<F(z^*) z-z^* \\right> >=0 $"
   ]
  },
  {
   "cell_type": "markdown",
   "metadata": {},
   "source": [
    "с оператором $F(z)$:"
   ]
  },
  {
   "cell_type": "markdown",
   "metadata": {},
   "source": [
    "$F(z)=(A(y-b_y)+\\lambda(x-b_x);-(x-b_x)A+\\lambda(y-b_y))$"
   ]
  },
  {
   "cell_type": "markdown",
   "metadata": {},
   "source": [
    "Забудем на секунду, что задача решается на кубе. Тогда в точке ее решения градиенты будут равны нулю"
   ]
  },
  {
   "cell_type": "markdown",
   "metadata": {},
   "source": [
    "$A(y-b_y)+\\lambda(x-b_x) = 0;\\;\\;\\; -(x-b_x)^TA+\\lambda(y-b_y)=0$"
   ]
  },
  {
   "cell_type": "markdown",
   "metadata": {},
   "source": [
    "Отсюда следует, что решение системы это $(x,y)=(b_x,b_y)$"
   ]
  },
  {
   "cell_type": "markdown",
   "metadata": {},
   "source": [
    "Эта точка лежит внутри куба, значит что теперь все хорошо."
   ]
  },
  {
   "cell_type": "markdown",
   "metadata": {},
   "source": [
    "### Выпуклость и вогнутость"
   ]
  },
  {
   "cell_type": "markdown",
   "metadata": {},
   "source": [
    "Действуем по определению - фиксируем игрик, рассматриваем $f(x,y)=g_y(x)$ только как функцию икса"
   ]
  },
  {
   "cell_type": "markdown",
   "metadata": {},
   "source": [
    "Тогда если рассмотреть ее Гессиан, то получим $\\lambda$. Аналогично, если смотреть на гессиан $h_x(y)$, то получим $-\\lambda$. Отсюда получим что $f(x,y)$ является сильно выпуклой по иксу и сильно вогнутой по игрику. При этом $\\lambda$ - константа выпуклости для обоих перменных"
   ]
  },
  {
   "cell_type": "markdown",
   "metadata": {},
   "source": [
    "### Сильная монотонность, липшицевость, константы"
   ]
  },
  {
   "cell_type": "markdown",
   "metadata": {},
   "source": [
    "По определнию нужно, чтобы"
   ]
  },
  {
   "cell_type": "markdown",
   "metadata": {},
   "source": [
    "$\\left<F(z_1)-F(z_2),z_1-z_2 \\right> \\geq \\mu ||z_1-z_2||^2$"
   ]
  },
  {
   "cell_type": "markdown",
   "metadata": {},
   "source": [
    "Подставим, раскроем, получим :"
   ]
  },
  {
   "cell_type": "markdown",
   "metadata": {},
   "source": [
    "$\\lambda||x_1-x_2||^2+\\lambda||y_1-y_2||^2=\\lambda||z_1-z_2||^2$"
   ]
  },
  {
   "cell_type": "markdown",
   "metadata": {},
   "source": [
    "Отсюда получим, что оператор сильно монотонный с константой лямбда"
   ]
  },
  {
   "cell_type": "markdown",
   "metadata": {},
   "source": [
    "$||F(z_1)-F(z_2)||^2 \\leq L_A^2(||x_1-x_2||^2+||y_1-y_2||^2)+\\lambda^2(||x_1-x_2||^2)+||y_1-y_2||^2)$"
   ]
  },
  {
   "cell_type": "markdown",
   "metadata": {},
   "source": [
    "$L$ можно оценить как $\\sqrt{L_A^2+\\lambda^2}$"
   ]
  },
  {
   "cell_type": "markdown",
   "metadata": {},
   "source": [
    "__(б)__ Решите данную задачу с помощью метода градиентного спуска(подъема) с проекцией и с помощью метода Экстраградиента с проекцией(смотри Секцию 3.3 [статью](https://arxiv.org/pdf/1802.10551.pdf)). Для начала попробуйте теоретические шаги для данных методов. Далее подберите шаг для наилучшей сходимости. Постройте график сходимости (относительное расстояние до решения по аргументу от числа подсчетов градиентов). На графике должно быть 4 линии, по две на каждый из методов. Сделайте вывод."
   ]
  },
  {
   "cell_type": "markdown",
   "metadata": {},
   "source": [
    "Генерируем матрицу и векторы :"
   ]
  },
  {
   "cell_type": "code",
   "execution_count": 4,
   "metadata": {},
   "outputs": [],
   "source": [
    "DIMENSIONS=100\n",
    "L=1000\n",
    "mu=0.01\n",
    "lambda_coef=1\n",
    "seed=5\n",
    "A=get_matrix_2(DIMENSIONS,mu,L,5)\n",
    "bx=np.array(uniform.rvs(loc=-10,scale=20,size=DIMENSIONS,random_state=seed))\n",
    "by=np.array(uniform.rvs(loc=-10,scale=20,size=DIMENSIONS,random_state=seed+1))"
   ]
  },
  {
   "cell_type": "markdown",
   "metadata": {},
   "source": [
    "## Пишем экстраградиент"
   ]
  },
  {
   "cell_type": "code",
   "execution_count": 5,
   "metadata": {},
   "outputs": [],
   "source": [
    "def default_proj(z):\n",
    "    return z\n",
    "def segment_proj(z):\n",
    "    for i in range(len(z)):\n",
    "        if z[i]>=10:\n",
    "            z[i]=10\n",
    "        if z[i]<=-10:\n",
    "            z[i]=-10\n",
    "    return z\n",
    "\n",
    "def ExtraGradient(F,z_start,step,iterations,proj,true_solution):\n",
    "    z=z_start\n",
    "    numbers=[]\n",
    "    R0=np.linalg.norm(z_start-true_solution,2)\n",
    "    for i in range(iterations):\n",
    "        z_between=proj(z-step*F(z))\n",
    "        z_new=proj(z-step*F(z_between))\n",
    "        z=z_new\n",
    "        numbers.append(np.linalg.norm(z-true_solution,2)/R0) #Относительное расстояние   \n",
    "    return z,numbers"
   ]
  },
  {
   "cell_type": "code",
   "execution_count": 6,
   "metadata": {},
   "outputs": [
    {
     "data": {
      "text/plain": [
       "999.9999999999998"
      ]
     },
     "execution_count": 6,
     "metadata": {},
     "output_type": "execute_result"
    }
   ],
   "source": [
    "L=np.linalg.norm(A,2)\n",
    "L"
   ]
  },
  {
   "cell_type": "code",
   "execution_count": 7,
   "metadata": {},
   "outputs": [],
   "source": [
    "def x_grad(A, bx,by,lambd,x,y): \n",
    "    return np.dot(A,y-by)+lambd*(x-bx)\n",
    "def y_grad(A, bx,by,lambd,x,y):\n",
    "    return np.dot(A,x-bx)+lambd*(by-y)"
   ]
  },
  {
   "cell_type": "code",
   "execution_count": 8,
   "metadata": {},
   "outputs": [],
   "source": [
    "def F_prep(x_grad,y_grad,z):\n",
    "    x=z[:int(len(z)/2)]\n",
    "    y=z[int(len(z)/2):]\n",
    "    first=x_grad(A,bx,by,1,x,y)\n",
    "    second=-y_grad(A,bx,by,1,x,y)\n",
    "    return np.hstack([first,second])"
   ]
  },
  {
   "cell_type": "code",
   "execution_count": 9,
   "metadata": {},
   "outputs": [],
   "source": [
    "F = lambda z: F_prep(x_grad,y_grad,z)"
   ]
  },
  {
   "cell_type": "markdown",
   "metadata": {},
   "source": [
    "# Тесты"
   ]
  },
  {
   "cell_type": "markdown",
   "metadata": {},
   "source": [
    "## Экстраградиент"
   ]
  },
  {
   "cell_type": "code",
   "execution_count": 10,
   "metadata": {
    "scrolled": true
   },
   "outputs": [],
   "source": [
    "theor_step=1/3/L\n",
    "steps=[theor_step/10,theor_step/5,theor_step,theor_step*3,theor_step*4,theor_step*5]\n",
    "gradients=[]\n",
    "for i in range(len(steps)):\n",
    "    gradients.append(ExtraGradient(F,np.zeros(2*DIMENSIONS),steps[i],1000,segment_proj,np.hstack([bx,by]))[1])"
   ]
  },
  {
   "cell_type": "code",
   "execution_count": 11,
   "metadata": {},
   "outputs": [],
   "source": [
    "steps_string=[\"theor_step/10\",\"theor_step/5\",\"theor_step\",\"theor_step*3\",\"theor_step*4\",\"theor_step*5\"]"
   ]
  },
  {
   "cell_type": "code",
   "execution_count": 12,
   "metadata": {
    "scrolled": true
   },
   "outputs": [
    {
     "data": {
      "text/plain": [
       "<matplotlib.legend.Legend at 0x7f44f8f240b8>"
      ]
     },
     "execution_count": 12,
     "metadata": {},
     "output_type": "execute_result"
    },
    {
     "data": {
      "image/png": "[encoded data removed]",
      "text/plain": [
       "<matplotlib.figure.Figure at 0x7f44faffc198>"
      ]
     },
     "metadata": {
      "needs_background": "light"
     },
     "output_type": "display_data"
    }
   ],
   "source": [
    "for i in range(len(steps)):\n",
    "    plt.plot(range(len(gradients[i])),gradients[i],label=\"gamma = {}\".format(steps_string[i]))\n",
    "plt.yscale(\"log\")\n",
    "plt.xlabel(\"Число итераций\")\n",
    "plt.ylabel(\"Относительное расстояние до решения\")\n",
    "plt.title(\"Тесты различных шагов для экстраградиента\")\n",
    "plt.legend()"
   ]
  },
  {
   "cell_type": "markdown",
   "metadata": {},
   "source": [
    "### Градиентный спуск"
   ]
  },
  {
   "cell_type": "code",
   "execution_count": 13,
   "metadata": {},
   "outputs": [],
   "source": [
    "def GradientDescent(grad_f,z_start,step,iterations,proj,true_solution):\n",
    "    z=z_start\n",
    "    numbers=[]\n",
    "    R0=np.linalg.norm(z_start-true_solution,2)\n",
    "    for i in range(iterations):\n",
    "        z=proj(z+step*grad_f(z))\n",
    "        numbers.append(np.linalg.norm(z-true_solution,2)/R0) #Относительное расстояние \n",
    "    return z,numbers"
   ]
  },
  {
   "cell_type": "markdown",
   "metadata": {},
   "source": [
    "Тестовые прогоны дали понять что на $\\gamma=\\frac{1}{10L}$ алгоритм сходится. Будем смотреть вокруг него. Проверим заодно теоретическую $mu/L^2$"
   ]
  },
  {
   "cell_type": "code",
   "execution_count": 14,
   "metadata": {
    "scrolled": true
   },
   "outputs": [],
   "source": [
    "start_step=1/L/10\n",
    "steps=[start_step/20,start_step/10,start_step/5,start_step,start_step*5,mu/L/L]\n",
    "gd_gradients=[]\n",
    "for i in range(len(steps)):\n",
    "    gd_gradients.append(GradientDescent(F,np.zeros(2*DIMENSIONS),steps[i],1000,segment_proj,np.hstack([bx,by]))[1])"
   ]
  },
  {
   "cell_type": "code",
   "execution_count": 15,
   "metadata": {},
   "outputs": [],
   "source": [
    "gd_steps_string=[\"start_step/10\",\"start_step/5\",\"start_step\",\"start_step*5\",\"start_step*10\",\"theor\"]"
   ]
  },
  {
   "cell_type": "code",
   "execution_count": 16,
   "metadata": {
    "scrolled": false
   },
   "outputs": [
    {
     "data": {
      "text/plain": [
       "<matplotlib.legend.Legend at 0x7f44f8e6a898>"
      ]
     },
     "execution_count": 16,
     "metadata": {},
     "output_type": "execute_result"
    },
    {
     "data": {
      "image/png": "[encoded data removed]",
      "text/plain": [
       "<matplotlib.figure.Figure at 0x7f44f8e6ab70>"
      ]
     },
     "metadata": {
      "needs_background": "light"
     },
     "output_type": "display_data"
    }
   ],
   "source": [
    "for i in range(len(steps)):\n",
    "    plt.plot(range(len(gd_gradients[i])),gd_gradients[i],label=\"gamma = {}\".format(gd_steps_string[i]))\n",
    "plt.yscale(\"log\")\n",
    "plt.xlabel(\"Число итераций\")\n",
    "plt.ylabel(\"Относительное расстояние до решения\")\n",
    "plt.title(\"Тесты различных шагов для обычного градиента\")\n",
    "plt.legend()"
   ]
  },
  {
   "cell_type": "markdown",
   "metadata": {},
   "source": [
    "Теоретическая вообще не сошлась"
   ]
  },
  {
   "cell_type": "markdown",
   "metadata": {},
   "source": [
    "### Сравнительный график"
   ]
  },
  {
   "cell_type": "code",
   "execution_count": 41,
   "metadata": {
    "scrolled": true
   },
   "outputs": [
    {
     "data": {
      "image/png": "[encoded data removed]",
      "text/plain": [
       "<matplotlib.figure.Figure at 0x7f44f8b42f98>"
      ]
     },
     "metadata": {
      "needs_background": "light"
     },
     "output_type": "display_data"
    }
   ],
   "source": [
    "plt.plot(range(len(gradients[2])),gradients[2],label=\"extragradient theor\")\n",
    "plt.plot(range(len(gradients[3])),gradients[3],label=\"extragradient empiric\")\n",
    "plt.plot(range(len(gd_gradients[3])),gd_gradients[3],label=\"gradient decline empiric\")\n",
    "plt.plot(range(len(gd_gradients[-1])),gd_gradients[-1],label=\"gradient decline theor\")\n",
    "plt.legend()\n",
    "plt.xlabel(\"Число итераций\")\n",
    "plt.ylabel(\"Относительное расстояние до решения\")\n",
    "plt.title(\"Сравнительный график с эмпирическим и теоретическим шагами для методов\")\n",
    "plt.yscale(\"log\")"
   ]
  },
  {
   "cell_type": "markdown",
   "metadata": {},
   "source": [
    "Экстраградиент бьет градиентный спуск, как и предполагалось"
   ]
  },
  {
   "cell_type": "markdown",
   "metadata": {},
   "source": [
    "## Задача 2\n",
    "\n",
    "Теперь рассмотрим билинейную задачу на симплексе. Описание задачи возьмите из [лекций](https://www2.isye.gatech.edu/~nemirovs/BrazilTransparenciesJuly4.pdf) - Слайд 125 \"How it Works: Policeman vs. Burglar\" и следующий.\n",
    "\n",
    "__(а)__ Сгенерируйте матрицу для данной задачи размера $n=10$ c $\\theta = 1$."
   ]
  },
  {
   "cell_type": "code",
   "execution_count": 54,
   "metadata": {},
   "outputs": [],
   "source": [
    "n=10\n",
    "theta=1"
   ]
  },
  {
   "cell_type": "markdown",
   "metadata": {},
   "source": [
    "Координаты дома определяются (k,l) где k и l меняются от нуля до девяти. k - ряд, в котором стоит дом, l - его номер в ряде  \n",
    "Эти коориднаты переводятся в номер следующим образом : k*n+l    \n",
    "В таком случае по номеру дома можно восстановить его координаты при помощи деления с остатком  "
   ]
  },
  {
   "cell_type": "code",
   "execution_count": 55,
   "metadata": {},
   "outputs": [],
   "source": [
    "def get_coord(number):\n",
    "    l=number%n\n",
    "    k=(number-l)/n\n",
    "    return np.array([k,l])"
   ]
  },
  {
   "cell_type": "markdown",
   "metadata": {},
   "source": [
    "Богатство дома будет пропорционально расстоянию до дома (n/2,n/2). \n",
    "$w(i,j)=w_c-w_c*dist((i,j),(n/2,n/2))$"
   ]
  },
  {
   "cell_type": "code",
   "execution_count": 56,
   "metadata": {},
   "outputs": [],
   "source": [
    "wc=10\n",
    "def wealth(i):\n",
    "    house_position=get_coord(i)\n",
    "    central_house=np.array([n/2,n/2])\n",
    "    return wc*(1-np.linalg.norm(house_position-central_house,2))"
   ]
  },
  {
   "cell_type": "markdown",
   "metadata": {},
   "source": [
    "Теперь можно собрать матрицу"
   ]
  },
  {
   "cell_type": "code",
   "execution_count": 57,
   "metadata": {},
   "outputs": [],
   "source": [
    "A=np.zeros([100,100])\n",
    "for i in range(100):\n",
    "    for j in range(100):\n",
    "        dist_vector=get_coord(i)-get_coord(j)\n",
    "        A[i][j]=wealth(i)*(1-np.exp(-theta*np.linalg.norm(dist_vector,2)))"
   ]
  },
  {
   "cell_type": "markdown",
   "metadata": {},
   "source": [
    "__(б)__ Для данной задачи предложите модификацию метода Экстраградиента, которая учитывает, что задача решается на симплексе. В этом может помочь [статья](https://arxiv.org/pdf/0809.0815.pdf) (смотри Секцию 3.3). Реализуйте данный метод."
   ]
  },
  {
   "cell_type": "markdown",
   "metadata": {},
   "source": [
    "__(в)__ Решите билинейную задачу на симплексе с помощью нового метода и методов из Задачи 1. Как будете измерять сходимость? Возможно, в работах, из которых были взяты методы, найдется ответ. Постройте график сходимости. Визуализирйте полученный ответ, как это сделано в файле с лекциями. Сделайте вывод.  "
   ]
  },
  {
   "cell_type": "markdown",
   "metadata": {},
   "source": [
    "### __Измерять сходимость__"
   ]
  },
  {
   "cell_type": "markdown",
   "metadata": {},
   "source": [
    "Из статьи можно найти"
   ]
  },
  {
   "cell_type": "markdown",
   "metadata": {},
   "source": [
    "$Err_{VI}(z):=\\max_{u\\in Z}\\left<F(u),z-u \\right>$"
   ]
  },
  {
   "cell_type": "markdown",
   "metadata": {},
   "source": [
    "Подставив функцию и раскрыв скалярное произведение можно получить, что"
   ]
  },
  {
   "cell_type": "markdown",
   "metadata": {},
   "source": [
    "$Err_{VI}(z)=\\max_i(A y)-\\min_i(A x)$"
   ]
  },
  {
   "cell_type": "code",
   "execution_count": 86,
   "metadata": {},
   "outputs": [],
   "source": [
    "#Честная проекция на симплекс\n",
    "def simplex_proj(z):\n",
    "    x=z[:DIMENSIONS]\n",
    "    y=z[DIMENSIONS:]\n",
    "    x=true_simplex_proj(x)\n",
    "    y=true_simplex_proj(y)\n",
    "    return np.hstack([x,y])\n",
    "\n",
    "#Проекция, предложенная в работе\n",
    "def special_simplex_proj(z,xi):\n",
    "    return np.exp(-xi)*z/(np.dot(z.T,np.exp(-xi)))\n"
   ]
  },
  {
   "cell_type": "code",
   "execution_count": 59,
   "metadata": {},
   "outputs": [],
   "source": [
    "def simplex_Extragradient(F,gap,z_start,step,iterations,proj=default_proj):\n",
    "    \n",
    "    z=z_start\n",
    "    gradients=[]\n",
    "    gaps=[]\n",
    "    for i in range(iterations):\n",
    "        z_between=proj(z-step*F(z))\n",
    "        z_new=proj(z-step*F(z_between))\n",
    "        gaps.append(gap(z_new))\n",
    "        z=z_new\n",
    "    return z,gaps"
   ]
  },
  {
   "cell_type": "code",
   "execution_count": 60,
   "metadata": {},
   "outputs": [],
   "source": [
    "def special_simplex_ExtraGradient(F,gap,z_start,step,iterations,proj=special_simplex_proj):\n",
    "    \n",
    "    z=z_start\n",
    "    gradients=[]\n",
    "    gaps=[]\n",
    "    for i in range(iterations):\n",
    "        z_between=proj(z,z-step*F(z))\n",
    "        z_new=proj(z,z-step*F(z_between))\n",
    "        gaps.append(gap(z_new))\n",
    "        z=z_new\n",
    "    return z,gaps"
   ]
  },
  {
   "cell_type": "code",
   "execution_count": 61,
   "metadata": {
    "scrolled": true
   },
   "outputs": [
    {
     "data": {
      "text/plain": [
       "3067.6395551814735"
      ]
     },
     "execution_count": 61,
     "metadata": {},
     "output_type": "execute_result"
    }
   ],
   "source": [
    "L=np.linalg.norm(A,2)\n",
    "L"
   ]
  },
  {
   "cell_type": "code",
   "execution_count": 62,
   "metadata": {},
   "outputs": [],
   "source": [
    "def x_grad(A,x,y): \n",
    "    return np.dot(A,y)\n",
    "def y_grad(A,x,y):\n",
    "    return np.dot(A,x)"
   ]
  },
  {
   "cell_type": "code",
   "execution_count": 63,
   "metadata": {},
   "outputs": [],
   "source": [
    "def F_prep(x_grad,y_grad,z):\n",
    "    x=z[:DIMENSIONS]\n",
    "    y=z[DIMENSIONS:]\n",
    "    first=x_grad(A,x,y)\n",
    "    second=-y_grad(A,x,y)\n",
    "    return np.hstack([first,second])"
   ]
  },
  {
   "cell_type": "code",
   "execution_count": 64,
   "metadata": {},
   "outputs": [],
   "source": [
    "F=lambda z:F_prep(x_grad,y_grad,z) "
   ]
  },
  {
   "cell_type": "code",
   "execution_count": 65,
   "metadata": {},
   "outputs": [],
   "source": [
    "def Err_prep(A,z):\n",
    "    x=z[:DIMENSIONS]\n",
    "    y=z[DIMENSIONS:]\n",
    "    \n",
    "    return np.max(np.dot(A,y)-np.min(np.dot(A,x)))"
   ]
  },
  {
   "cell_type": "code",
   "execution_count": 66,
   "metadata": {},
   "outputs": [],
   "source": [
    "Err=lambda z : Err_prep(A,z)"
   ]
  },
  {
   "cell_type": "markdown",
   "metadata": {},
   "source": [
    "# Тесты"
   ]
  },
  {
   "cell_type": "markdown",
   "metadata": {},
   "source": [
    "## Экстраградиент с честной проекцией на симплекс"
   ]
  },
  {
   "cell_type": "code",
   "execution_count": 67,
   "metadata": {},
   "outputs": [],
   "source": [
    "simp_res=simplex_Extragradient(F,Err,np.ones(2*DIMENSIONS)/DIMENSIONS,1/50/L,5000,proj=simplex_proj)"
   ]
  },
  {
   "cell_type": "code",
   "execution_count": 94,
   "metadata": {
    "scrolled": false
   },
   "outputs": [
    {
     "data": {
      "text/plain": [
       "Text(0.5,1,'Сходимость экстраградиента с честной проекцией')"
      ]
     },
     "execution_count": 94,
     "metadata": {},
     "output_type": "execute_result"
    },
    {
     "data": {
      "image/png": "[encoded data removed]",
      "text/plain": [
       "<matplotlib.figure.Figure at 0x7f44f8758c18>"
      ]
     },
     "metadata": {
      "needs_background": "light"
     },
     "output_type": "display_data"
    }
   ],
   "source": [
    "plt.plot(range(len(simp_res[1])),simp_res[1])\n",
    "plt.xlabel(\"Число итераций\")\n",
    "plt.ylabel(\"ошибка\")\n",
    "plt.title(\"Сходимость экстраградиента с честной проекцией\")\n",
    "#plt.yscale(\"log\")"
   ]
  },
  {
   "cell_type": "markdown",
   "metadata": {},
   "source": [
    "Продолжает медленно монотонно спускаться"
   ]
  },
  {
   "cell_type": "markdown",
   "metadata": {},
   "source": [
    "Переведем это обратно в формат матрицы"
   ]
  },
  {
   "cell_type": "code",
   "execution_count": 69,
   "metadata": {},
   "outputs": [],
   "source": [
    "def want_matrix(answer):\n",
    "    x=answer[:DIMENSIONS]\n",
    "    y=answer[DIMENSIONS:]    \n",
    "    policeman=np.zeros([10,10])\n",
    "    burgler=np.zeros([10,10])\n",
    "    for i in range(10):\n",
    "        for j in range(10):\n",
    "            burgler[i][j]=x[i*10+j]\n",
    "            policeman[i][j]=y[i*10+j]\n",
    "    return burgler,policeman"
   ]
  },
  {
   "cell_type": "code",
   "execution_count": 70,
   "metadata": {
    "scrolled": false
   },
   "outputs": [],
   "source": [
    "burgler,policeman=want_matrix(simp_res[0])"
   ]
  },
  {
   "cell_type": "code",
   "execution_count": 71,
   "metadata": {},
   "outputs": [
    {
     "data": {
      "text/plain": [
       "array([[0.37557326, 0.1560521 , 0.        , 0.        , 0.        ,\n",
       "        0.        , 0.        , 0.        , 0.        , 0.15616127],\n",
       "       [0.1560521 , 0.        , 0.        , 0.        , 0.        ,\n",
       "        0.        , 0.        , 0.        , 0.        , 0.        ],\n",
       "       [0.        , 0.        , 0.        , 0.        , 0.        ,\n",
       "        0.        , 0.        , 0.        , 0.        , 0.        ],\n",
       "       [0.        , 0.        , 0.        , 0.        , 0.        ,\n",
       "        0.        , 0.        , 0.        , 0.        , 0.        ],\n",
       "       [0.        , 0.        , 0.        , 0.        , 0.        ,\n",
       "        0.        , 0.        , 0.        , 0.        , 0.        ],\n",
       "       [0.        , 0.        , 0.        , 0.        , 0.        ,\n",
       "        0.        , 0.        , 0.        , 0.        , 0.        ],\n",
       "       [0.        , 0.        , 0.        , 0.        , 0.        ,\n",
       "        0.        , 0.        , 0.        , 0.        , 0.        ],\n",
       "       [0.        , 0.        , 0.        , 0.        , 0.        ,\n",
       "        0.        , 0.        , 0.        , 0.        , 0.        ],\n",
       "       [0.        , 0.        , 0.        , 0.        , 0.        ,\n",
       "        0.        , 0.        , 0.        , 0.        , 0.        ],\n",
       "       [0.15616127, 0.        , 0.        , 0.        , 0.        ,\n",
       "        0.        , 0.        , 0.        , 0.        , 0.        ]])"
      ]
     },
     "execution_count": 71,
     "metadata": {},
     "output_type": "execute_result"
    }
   ],
   "source": [
    "burgler"
   ]
  },
  {
   "cell_type": "code",
   "execution_count": 72,
   "metadata": {},
   "outputs": [
    {
     "data": {
      "text/plain": [
       "array([[0.00000000e+00, 0.00000000e+00, 0.00000000e+00, 0.00000000e+00,\n",
       "        0.00000000e+00, 0.00000000e+00, 0.00000000e+00, 0.00000000e+00,\n",
       "        0.00000000e+00, 0.00000000e+00],\n",
       "       [0.00000000e+00, 0.00000000e+00, 0.00000000e+00, 0.00000000e+00,\n",
       "        0.00000000e+00, 0.00000000e+00, 0.00000000e+00, 0.00000000e+00,\n",
       "        0.00000000e+00, 0.00000000e+00],\n",
       "       [0.00000000e+00, 0.00000000e+00, 0.00000000e+00, 0.00000000e+00,\n",
       "        0.00000000e+00, 0.00000000e+00, 0.00000000e+00, 0.00000000e+00,\n",
       "        0.00000000e+00, 0.00000000e+00],\n",
       "       [0.00000000e+00, 0.00000000e+00, 0.00000000e+00, 0.00000000e+00,\n",
       "        0.00000000e+00, 0.00000000e+00, 0.00000000e+00, 0.00000000e+00,\n",
       "        0.00000000e+00, 0.00000000e+00],\n",
       "       [0.00000000e+00, 0.00000000e+00, 0.00000000e+00, 0.00000000e+00,\n",
       "        5.20943132e-04, 1.34772733e-01, 2.37284664e-04, 0.00000000e+00,\n",
       "        0.00000000e+00, 0.00000000e+00],\n",
       "       [0.00000000e+00, 0.00000000e+00, 0.00000000e+00, 0.00000000e+00,\n",
       "        1.34772733e-01, 4.59890213e-01, 1.34772733e-01, 0.00000000e+00,\n",
       "        0.00000000e+00, 0.00000000e+00],\n",
       "       [0.00000000e+00, 0.00000000e+00, 0.00000000e+00, 0.00000000e+00,\n",
       "        2.37284664e-04, 1.34772733e-01, 2.33424405e-05, 0.00000000e+00,\n",
       "        0.00000000e+00, 0.00000000e+00],\n",
       "       [0.00000000e+00, 0.00000000e+00, 0.00000000e+00, 0.00000000e+00,\n",
       "        0.00000000e+00, 0.00000000e+00, 0.00000000e+00, 0.00000000e+00,\n",
       "        0.00000000e+00, 0.00000000e+00],\n",
       "       [0.00000000e+00, 0.00000000e+00, 0.00000000e+00, 0.00000000e+00,\n",
       "        0.00000000e+00, 0.00000000e+00, 0.00000000e+00, 0.00000000e+00,\n",
       "        0.00000000e+00, 0.00000000e+00],\n",
       "       [0.00000000e+00, 0.00000000e+00, 0.00000000e+00, 0.00000000e+00,\n",
       "        0.00000000e+00, 0.00000000e+00, 0.00000000e+00, 0.00000000e+00,\n",
       "        0.00000000e+00, 0.00000000e+00]])"
      ]
     },
     "execution_count": 72,
     "metadata": {},
     "output_type": "execute_result"
    }
   ],
   "source": [
    "policeman"
   ]
  },
  {
   "cell_type": "markdown",
   "metadata": {},
   "source": [
    "Полицейский сидит в центре города, как и на картинке, но вор остался приемущественно в первом доме"
   ]
  },
  {
   "cell_type": "markdown",
   "metadata": {},
   "source": [
    "# Градиентный спуск"
   ]
  },
  {
   "cell_type": "code",
   "execution_count": 73,
   "metadata": {},
   "outputs": [],
   "source": [
    "def GradientDescent(grad_f,err,z_start,step,iterations,proj):\n",
    "    z=z_start\n",
    "    numbers=[]\n",
    "    for i in range(iterations):\n",
    "        z=proj(z+step*grad_f(z))\n",
    "        numbers.append(err(z))\n",
    "    return z,numbers"
   ]
  },
  {
   "cell_type": "code",
   "execution_count": 74,
   "metadata": {},
   "outputs": [],
   "source": [
    "gd_res=GradientDescent(F,Err,np.ones(2*DIMENSIONS)/DIMENSIONS,1/L/100,2000,simplex_proj)"
   ]
  },
  {
   "cell_type": "code",
   "execution_count": 93,
   "metadata": {
    "scrolled": true
   },
   "outputs": [
    {
     "data": {
      "text/plain": [
       "Text(0.5,1,'Сходимость градиентного спуска с честной проекцией')"
      ]
     },
     "execution_count": 93,
     "metadata": {},
     "output_type": "execute_result"
    },
    {
     "data": {
      "image/png": "[encoded data removed]",
      "text/plain": [
       "<matplotlib.figure.Figure at 0x7f44f8ae5978>"
      ]
     },
     "metadata": {
      "needs_background": "light"
     },
     "output_type": "display_data"
    }
   ],
   "source": [
    "plt.plot(range(len(gd_res[1])),gd_res[1])\n",
    "plt.yscale(\"log\")\n",
    "plt.xlabel(\"Число итераций\")\n",
    "plt.ylabel(\"ошибка\")\n",
    "plt.title(\"Сходимость градиентного спуска с честной проекцией\")"
   ]
  },
  {
   "cell_type": "markdown",
   "metadata": {},
   "source": [
    "Градиентный спуск не сходится(видимо проблемы с выпуклостью функции)"
   ]
  },
  {
   "cell_type": "code",
   "execution_count": 76,
   "metadata": {},
   "outputs": [],
   "source": [
    "def want_matrix(answer):\n",
    "    x=answer[:DIMENSIONS]\n",
    "    y=answer[DIMENSIONS:]    \n",
    "    policeman=np.zeros([10,10])\n",
    "    burgler=np.zeros([10,10])\n",
    "    for i in range(10):\n",
    "        for j in range(10):\n",
    "            burgler[i][j]=x[i*10+j]\n",
    "            policeman[i][j]=y[i*10+j]\n",
    "    return burgler,policeman"
   ]
  },
  {
   "cell_type": "code",
   "execution_count": 77,
   "metadata": {},
   "outputs": [],
   "source": [
    "burgler,policeman=want_matrix(gd_res[0])\n"
   ]
  },
  {
   "cell_type": "code",
   "execution_count": 78,
   "metadata": {},
   "outputs": [
    {
     "data": {
      "text/plain": [
       "array([[0.        , 0.        , 0.        , 0.        , 0.        ,\n",
       "        0.        , 0.        , 0.        , 0.        , 0.        ],\n",
       "       [0.        , 0.        , 0.        , 0.        , 0.        ,\n",
       "        0.        , 0.        , 0.        , 0.        , 0.        ],\n",
       "       [0.        , 0.        , 0.        , 0.        , 0.        ,\n",
       "        0.        , 0.        , 0.        , 0.        , 0.        ],\n",
       "       [0.        , 0.        , 0.        , 0.        , 0.01296881,\n",
       "        0.02790701, 0.01276697, 0.        , 0.        , 0.        ],\n",
       "       [0.        , 0.        , 0.        , 0.01296881, 0.06553304,\n",
       "        0.09224827, 0.06547517, 0.01250044, 0.        , 0.        ],\n",
       "       [0.        , 0.        , 0.        , 0.02790701, 0.09224827,\n",
       "        0.15701905, 0.09224827, 0.02756531, 0.        , 0.        ],\n",
       "       [0.        , 0.        , 0.        , 0.01276697, 0.06547517,\n",
       "        0.09224827, 0.06542208, 0.01233267, 0.        , 0.        ],\n",
       "       [0.        , 0.        , 0.        , 0.        , 0.01250044,\n",
       "        0.02756531, 0.01233267, 0.        , 0.        , 0.        ],\n",
       "       [0.        , 0.        , 0.        , 0.        , 0.        ,\n",
       "        0.        , 0.        , 0.        , 0.        , 0.        ],\n",
       "       [0.        , 0.        , 0.        , 0.        , 0.        ,\n",
       "        0.        , 0.        , 0.        , 0.        , 0.        ]])"
      ]
     },
     "execution_count": 78,
     "metadata": {},
     "output_type": "execute_result"
    }
   ],
   "source": [
    "burgler"
   ]
  },
  {
   "cell_type": "code",
   "execution_count": 79,
   "metadata": {
    "scrolled": true
   },
   "outputs": [
    {
     "data": {
      "text/plain": [
       "array([[0.13577712, 0.09163726, 0.05364396, 0.02387674, 0.00467799,\n",
       "        0.        , 0.00469154, 0.02390706, 0.05370109, 0.09174518],\n",
       "       [0.09163726, 0.04197296, 0.        , 0.        , 0.        ,\n",
       "        0.        , 0.        , 0.        , 0.        , 0.04212181],\n",
       "       [0.05364396, 0.        , 0.        , 0.        , 0.        ,\n",
       "        0.        , 0.        , 0.        , 0.        , 0.        ],\n",
       "       [0.02387674, 0.        , 0.        , 0.        , 0.        ,\n",
       "        0.        , 0.        , 0.        , 0.        , 0.        ],\n",
       "       [0.00467799, 0.        , 0.        , 0.        , 0.        ,\n",
       "        0.        , 0.        , 0.        , 0.        , 0.        ],\n",
       "       [0.        , 0.        , 0.        , 0.        , 0.        ,\n",
       "        0.        , 0.        , 0.        , 0.        , 0.        ],\n",
       "       [0.00469154, 0.        , 0.        , 0.        , 0.        ,\n",
       "        0.        , 0.        , 0.        , 0.        , 0.        ],\n",
       "       [0.02390706, 0.        , 0.        , 0.        , 0.        ,\n",
       "        0.        , 0.        , 0.        , 0.        , 0.        ],\n",
       "       [0.05370109, 0.        , 0.        , 0.        , 0.        ,\n",
       "        0.        , 0.        , 0.        , 0.        , 0.        ],\n",
       "       [0.09174518, 0.04212181, 0.        , 0.        , 0.        ,\n",
       "        0.        , 0.        , 0.        , 0.        , 0.04224467]])"
      ]
     },
     "execution_count": 79,
     "metadata": {},
     "output_type": "execute_result"
    }
   ],
   "source": [
    "policeman"
   ]
  },
  {
   "cell_type": "markdown",
   "metadata": {},
   "source": [
    "Здесь ситуация обратная к статье - вор сел в центре, а полицейский обитает на окраине"
   ]
  },
  {
   "cell_type": "markdown",
   "metadata": {},
   "source": [
    "# Модификацированный алгоритм для работы с симплексом"
   ]
  },
  {
   "cell_type": "code",
   "execution_count": 87,
   "metadata": {
    "scrolled": true
   },
   "outputs": [],
   "source": [
    "new_simp_res=special_simplex_ExtraGradient(F,Err,np.ones(2*DIMENSIONS)/DIMENSIONS,1/L/100,2000,proj=special_simplex_proj)"
   ]
  },
  {
   "cell_type": "code",
   "execution_count": 95,
   "metadata": {
    "scrolled": false
   },
   "outputs": [
    {
     "data": {
      "text/plain": [
       "Text(0.5,1,'Сходимость алгоритма с новой проекцией')"
      ]
     },
     "execution_count": 95,
     "metadata": {},
     "output_type": "execute_result"
    },
    {
     "data": {
      "image/png": "[encoded data removed]",
      "text/plain": [
       "<matplotlib.figure.Figure at 0x7f44f8739fd0>"
      ]
     },
     "metadata": {
      "needs_background": "light"
     },
     "output_type": "display_data"
    }
   ],
   "source": [
    "plt.plot(range(len(new_simp_res[1])),new_simp_res[1])\n",
    "plt.yscale(\"log\")\n",
    "plt.xlabel(\"Число итераций\")\n",
    "plt.ylabel(\"ошибка\")\n",
    "plt.title(\"Сходимость алгоритма с новой проекцией\")"
   ]
  },
  {
   "cell_type": "markdown",
   "metadata": {},
   "source": [
    "Дошел до предела и больше не уменьшается"
   ]
  },
  {
   "cell_type": "code",
   "execution_count": 89,
   "metadata": {},
   "outputs": [],
   "source": [
    "burgler,policeman=want_matrix(new_simp_res[0])"
   ]
  },
  {
   "cell_type": "code",
   "execution_count": 90,
   "metadata": {},
   "outputs": [
    {
     "data": {
      "text/plain": [
       "array([[0.00490354, 0.00491489, 0.00492422, 0.00493135, 0.00493588,\n",
       "        0.00493744, 0.00493585, 0.00493124, 0.00492394, 0.00491419],\n",
       "       [0.00491489, 0.00492749, 0.00493807, 0.00494639, 0.00495185,\n",
       "        0.00495376, 0.00495182, 0.00494629, 0.00493777, 0.0049267 ],\n",
       "       [0.00492422, 0.00493807, 0.00495013, 0.00496009, 0.00496697,\n",
       "        0.00496948, 0.00496695, 0.00496   , 0.00494986, 0.00493731],\n",
       "       [0.00493135, 0.00494639, 0.00496009, 0.00497218, 0.00498133,\n",
       "        0.00498497, 0.00498132, 0.00497211, 0.00495986, 0.00494572],\n",
       "       [0.00493588, 0.00495185, 0.00496697, 0.00498133, 0.00499401,\n",
       "        0.00500039, 0.004994  , 0.00498129, 0.00496678, 0.00495124],\n",
       "       [0.00493744, 0.00495376, 0.00496948, 0.00498497, 0.00500039,\n",
       "        0.0050158 , 0.00500039, 0.00498493, 0.0049693 , 0.00495317],\n",
       "       [0.00493585, 0.00495182, 0.00496695, 0.00498132, 0.004994  ,\n",
       "        0.00500039, 0.004994  , 0.00498127, 0.00496676, 0.00495121],\n",
       "       [0.00493124, 0.00494629, 0.00496   , 0.00497211, 0.00498129,\n",
       "        0.00498493, 0.00498127, 0.00497205, 0.00495978, 0.00494563],\n",
       "       [0.00492394, 0.00493777, 0.00494986, 0.00495986, 0.00496678,\n",
       "        0.0049693 , 0.00496676, 0.00495978, 0.00494962, 0.00493709],\n",
       "       [0.00491419, 0.0049267 , 0.00493731, 0.00494572, 0.00495124,\n",
       "        0.00495317, 0.00495121, 0.00494563, 0.00493709, 0.00492609]])"
      ]
     },
     "execution_count": 90,
     "metadata": {},
     "output_type": "execute_result"
    }
   ],
   "source": [
    "burgler"
   ]
  },
  {
   "cell_type": "code",
   "execution_count": 91,
   "metadata": {},
   "outputs": [
    {
     "data": {
      "text/plain": [
       "array([[0.00509558, 0.00508442, 0.00507525, 0.00506824, 0.00506378,\n",
       "        0.00506225, 0.00506381, 0.00506834, 0.00507552, 0.0050851 ],\n",
       "       [0.00508442, 0.00507204, 0.00506164, 0.00505345, 0.00504808,\n",
       "        0.0050462 , 0.00504811, 0.00505355, 0.00506193, 0.00507281],\n",
       "       [0.00507525, 0.00506164, 0.00504977, 0.00503998, 0.00503322,\n",
       "        0.00503075, 0.00503324, 0.00504007, 0.00505004, 0.00506237],\n",
       "       [0.00506824, 0.00505345, 0.00503998, 0.0050281 , 0.00501911,\n",
       "        0.00501553, 0.00501912, 0.00502817, 0.0050402 , 0.00505411],\n",
       "       [0.00506378, 0.00504808, 0.00503322, 0.00501911, 0.00500666,\n",
       "        0.00500039, 0.00500666, 0.00501915, 0.00503341, 0.00504868],\n",
       "       [0.00506225, 0.0050462 , 0.00503075, 0.00501553, 0.00500039,\n",
       "        0.00498527, 0.00500039, 0.00501557, 0.00503093, 0.00504678],\n",
       "       [0.00506381, 0.00504811, 0.00503324, 0.00501912, 0.00500666,\n",
       "        0.00500039, 0.00500667, 0.00501917, 0.00503343, 0.00504871],\n",
       "       [0.00506834, 0.00505355, 0.00504007, 0.00502817, 0.00501915,\n",
       "        0.00501557, 0.00501917, 0.00502823, 0.00504028, 0.00505419],\n",
       "       [0.00507552, 0.00506193, 0.00505004, 0.0050402 , 0.00503341,\n",
       "        0.00503093, 0.00503343, 0.00504028, 0.00505027, 0.00506259],\n",
       "       [0.0050851 , 0.00507281, 0.00506237, 0.00505411, 0.00504868,\n",
       "        0.00504678, 0.00504871, 0.00505419, 0.00506259, 0.0050734 ]])"
      ]
     },
     "execution_count": 91,
     "metadata": {},
     "output_type": "execute_result"
    }
   ],
   "source": [
    "policeman"
   ]
  },
  {
   "cell_type": "markdown",
   "metadata": {},
   "source": [
    "Здесь они расселись равномерно"
   ]
  },
  {
   "cell_type": "markdown",
   "metadata": {},
   "source": [
    "__Возможно сходимость можно починить если как-то иначе задавать богатство в домах__"
   ]
  }
 ],
 "metadata": {
  "kernelspec": {
   "display_name": "Python 3",
   "language": "python",
   "name": "python3"
  },
  "language_info": {
   "codemirror_mode": {
    "name": "ipython",
    "version": 3
   },
   "file_extension": ".py",
   "mimetype": "text/x-python",
   "name": "python",
   "nbconvert_exporter": "python",
   "pygments_lexer": "ipython3",
   "version": "3.6.9"
  }
 },
 "nbformat": 4,
 "nbformat_minor": 5
}
